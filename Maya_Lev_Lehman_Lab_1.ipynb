{
  "cells": [
    {
      "cell_type": "markdown",
      "metadata": {
        "id": "0Lv7wtZ-iTC4"
      },
      "source": [
        "## Python Basics"
      ]
    },
    {
      "cell_type": "markdown",
      "metadata": {
        "id": "eFNi_s3RiWwc"
      },
      "source": [
        "### Calculator"
      ]
    },
    {
      "cell_type": "code",
      "execution_count": null,
      "metadata": {
        "id": "5jk_lQhz0T87"
      },
      "outputs": [],
      "source": [
        "# Comments with hashtag, python ignores this"
      ]
    },
    {
      "cell_type": "code",
      "execution_count": null,
      "metadata": {
        "colab": {
          "base_uri": "https://localhost:8080/"
        },
        "id": "Sk8TLU3biY0J",
        "outputId": "beca6795-3883-4b02-b20e-e7976243e092"
      },
      "outputs": [
        {
          "data": {
            "text/plain": [
              "35.90964"
            ]
          },
          "execution_count": 4,
          "metadata": {},
          "output_type": "execute_result"
        }
      ],
      "source": [
        "#how to add and subtract\n",
        "30.34321 + 9.12313 - 3.5567"
      ]
    },
    {
      "cell_type": "code",
      "execution_count": null,
      "metadata": {
        "colab": {
          "base_uri": "https://localhost:8080/"
        },
        "id": "R-u5seQsh_RF",
        "outputId": "bdbfb1b8-f806-4ca5-c31c-2269db40596c"
      },
      "outputs": [
        {
          "data": {
            "text/plain": [
              "4"
            ]
          },
          "execution_count": 5,
          "metadata": {},
          "output_type": "execute_result"
        }
      ],
      "source": [
        "#how to multiply\n",
        "2*2"
      ]
    },
    {
      "cell_type": "code",
      "execution_count": null,
      "metadata": {
        "colab": {
          "base_uri": "https://localhost:8080/"
        },
        "id": "OhzaZtPch_Yb",
        "outputId": "61d2b3c1-eb5c-46e9-d857-0ad912fb3514"
      },
      "outputs": [
        {
          "data": {
            "text/plain": [
              "256"
            ]
          },
          "execution_count": 6,
          "metadata": {},
          "output_type": "execute_result"
        }
      ],
      "source": [
        "#how to raise numbers to the power of (in this case) to the power of 8\n",
        "2**8"
      ]
    },
    {
      "cell_type": "code",
      "execution_count": null,
      "metadata": {
        "colab": {
          "base_uri": "https://localhost:8080/"
        },
        "id": "yt6iRMB8h_a2",
        "outputId": "ca28bfbc-f445-415f-c5a9-6ecdccdfd2d2"
      },
      "outputs": [
        {
          "data": {
            "text/plain": [
              "10633823966279326983230456482242756608"
            ]
          },
          "execution_count": 7,
          "metadata": {},
          "output_type": "execute_result"
        }
      ],
      "source": [
        "2**123 #2 to the power of 123"
      ]
    },
    {
      "cell_type": "code",
      "execution_count": null,
      "metadata": {
        "colab": {
          "base_uri": "https://localhost:8080/"
        },
        "collapsed": true,
        "id": "Ej6lPOmHh_dh",
        "outputId": "b489553a-9085-4a09-a10e-d474227679ee"
      },
      "outputs": [
        {
          "output_type": "execute_result",
          "data": {
            "text/plain": [
              "164171010688258216356020741663906501410127235530735881272116103087925094171390144280159034536439457734870419127140401667195510331085657185332721089236401193044493457116299768844344303479235489462436380672117015123283299131391904179287678259173308536738761981139958654880852234908448338817289014166774169869251339379828599748492918775437864739032217778051333882990074116246281269364933724892342134504702491040016637557429810893780765197418589477584716543480995722533317862352141459217781316266211186486157019262080414077670264642736018426998113523445732680856144329876972273300703392584997729207197971083945700345494092400147186997307012069454068489589035676979448169848060836924945824197706493306108258511936030341393221586423523264452449403781993352421885094664052270795527632721896121424813173522474674395886155092203404036730748474781710715745446135468098139831824083259647919175273503681561172684624283384438504776503000432241604550454374116320822227191911322123484085063926350606342197146407841178028071147192533942517270553513988142925976090769695456221159699052583533011331652079347093098173086975483539274464023357456484465482927479569437320368592222760278170306076733438801098370797675711274671054970711442158930561684343135774118741594506702833147396758825015850042983343690345185995956235143825771620543546030664562647854656431302644574119873820215595718618624485232422006575550007068883734241454686368856734496265385908809403972494685137741122866896719678053937285818409751670320140501843039224040735870096889596273419106389103662095318937990625980136711988237421962315266686856089505981438440850638067589321141759499017023839596858455548192000140085142294166987063499024792681334843159790936321351919859758669569200541507612099780909705198902176026219872201715422096090343686272984351441594569506778041062663266799342793856313801540959815845788584759033248828248561586450271172777240971795656082001848115815260930521663167480173886064019118572778281516735157779555888167787064432558595410843987446497881666288423233170060413025924629950477303342180149398926073618582715358742250388958231281694757980523791263699450732952325727664209947786063982561775327638504516918570101319391698412388607603742484414748268389669129118026878969735782286841116842656410574647607524418900720328045377993386279808768990376289424757351052369393977137871998119168898493037938756635621557623138404459266598837784229325799838782026060481496865561757031839002257091802876949248392744175669112242088439883248336310597001257385980776961529351198877747193531054956881808332177946751404038228718567911769630971553915410012677600002457982207465176670752102117002773980548089696530972476439694599881281812973217265853884727906535479745854085338851105144585481994156206497436745899944877732531412541279014300324594890623941145509856940982863769834430048120562966797907114102689879364945689860493474954538422367719507882513166051007352994068319251450666676648368200564329382998758875760414259654004977261309988267319806354856051784553990936610634733375984159028722378614984450255386315585631994503350002142910493190254825610707400589976364985748467955131077971641882672895854571236368282811336220769174784720113331269084746524204124263475054112841630933586166195036115696469686075600480420563557567616835633252622327172811002146392754445051182169805284630259703542633955126179520113059629914229833688535925729676778028406897316106101038469119090984567152591962365415039646394591503830797626339246986057077758611413664914168745375266786298141171496573941614387744125843685677063619782918759823106021054037757857761587472240835040580447360544029064930412569943169729238102162312218687930203068055400275795180972382856696655279408212344832"
            ]
          },
          "metadata": {},
          "execution_count": 1
        }
      ],
      "source": [
        "2**12345 #2 to the power of 12345"
      ]
    },
    {
      "cell_type": "code",
      "execution_count": null,
      "metadata": {
        "id": "0_Tjv73WXg67"
      },
      "outputs": [],
      "source": [
        "import sys #importing sys module\n",
        "sys.set_int_max_str_digits(100000) #setting max numbers of digits for integer string representation\n",
        "2**45678 # 2 raised to 45678"
      ]
    },
    {
      "cell_type": "code",
      "execution_count": null,
      "metadata": {
        "colab": {
          "base_uri": "https://localhost:8080/"
        },
        "id": "HWnnfszJzi1N",
        "outputId": "eb2d2f29-195d-4e64-a373-8b3643226b6d"
      },
      "outputs": [
        {
          "data": {
            "text/plain": [
              "2.0"
            ]
          },
          "execution_count": 9,
          "metadata": {},
          "output_type": "execute_result"
        }
      ],
      "source": [
        "#how to do division\n",
        "8/4"
      ]
    },
    {
      "cell_type": "code",
      "execution_count": null,
      "metadata": {
        "colab": {
          "base_uri": "https://localhost:8080/"
        },
        "id": "NzDS65ewzkDe",
        "outputId": "d42d8832-43d8-481b-c281-3785ea46e9d3"
      },
      "outputs": [
        {
          "data": {
            "text/plain": [
              "2"
            ]
          },
          "execution_count": 10,
          "metadata": {},
          "output_type": "execute_result"
        }
      ],
      "source": [
        "#one more way for division\n",
        "8//4"
      ]
    },
    {
      "cell_type": "code",
      "execution_count": null,
      "metadata": {
        "colab": {
          "base_uri": "https://localhost:8080/"
        },
        "id": "hj5iUYm03t3x",
        "outputId": "a470fe9b-6ff2-4fce-8b35-aa4f393b5ef1"
      },
      "outputs": [
        {
          "data": {
            "text/plain": [
              "3"
            ]
          },
          "execution_count": 11,
          "metadata": {},
          "output_type": "execute_result"
        }
      ],
      "source": [
        "6//2"
      ]
    },
    {
      "cell_type": "code",
      "execution_count": null,
      "metadata": {
        "colab": {
          "base_uri": "https://localhost:8080/"
        },
        "id": "MwcyFBu4zlgE",
        "outputId": "ff0b0e2b-9836-4e9f-e73a-9c296452efcf"
      },
      "outputs": [
        {
          "data": {
            "text/plain": [
              "8"
            ]
          },
          "execution_count": 12,
          "metadata": {},
          "output_type": "execute_result"
        }
      ],
      "source": [
        "#modular arithmetic\n",
        "8%12"
      ]
    },
    {
      "cell_type": "code",
      "execution_count": null,
      "metadata": {
        "colab": {
          "base_uri": "https://localhost:8080/"
        },
        "id": "KGMyjnL_zm-8",
        "outputId": "db6e0326-53dd-4f44-bcab-573dc5490354"
      },
      "outputs": [
        {
          "data": {
            "text/plain": [
              "1"
            ]
          },
          "execution_count": 13,
          "metadata": {},
          "output_type": "execute_result"
        }
      ],
      "source": [
        "13%12"
      ]
    },
    {
      "cell_type": "code",
      "execution_count": null,
      "metadata": {
        "colab": {
          "base_uri": "https://localhost:8080/"
        },
        "id": "YSUzBZWEzrvu",
        "outputId": "2a93dcd3-890e-4f69-9460-62a06815aaa8"
      },
      "outputs": [
        {
          "data": {
            "text/plain": [
              "10"
            ]
          },
          "execution_count": 14,
          "metadata": {},
          "output_type": "execute_result"
        }
      ],
      "source": [
        "22%12"
      ]
    },
    {
      "cell_type": "code",
      "execution_count": null,
      "metadata": {
        "colab": {
          "base_uri": "https://localhost:8080/"
        },
        "id": "abx0hn9jz-pB",
        "outputId": "c2183c8d-c514-496b-df71-239918066608"
      },
      "outputs": [
        {
          "data": {
            "text/plain": [
              "0"
            ]
          },
          "execution_count": 15,
          "metadata": {},
          "output_type": "execute_result"
        }
      ],
      "source": [
        "24%12"
      ]
    },
    {
      "cell_type": "markdown",
      "metadata": {
        "id": "C8SDfhEloyKH"
      },
      "source": [
        "### How many apples/oranges, total, cost for each, total cost"
      ]
    },
    {
      "cell_type": "code",
      "execution_count": null,
      "metadata": {
        "id": "LMw0vkqhh_iu"
      },
      "outputs": [],
      "source": [
        "apples = 5 #5 apples"
      ]
    },
    {
      "cell_type": "code",
      "execution_count": null,
      "metadata": {
        "id": "RWMUvAJhh_lA"
      },
      "outputs": [],
      "source": [
        "oranges = 8 #8 oranges"
      ]
    },
    {
      "cell_type": "code",
      "execution_count": null,
      "metadata": {
        "id": "JFF0Q3Bhh_na"
      },
      "outputs": [],
      "source": [
        "total = apples + oranges #5+8"
      ]
    },
    {
      "cell_type": "code",
      "execution_count": null,
      "metadata": {
        "colab": {
          "base_uri": "https://localhost:8080/"
        },
        "id": "fDX5SYA8h_qC",
        "outputId": "dc47d965-aba5-4b0c-f5f5-7fe3460b650e"
      },
      "outputs": [
        {
          "data": {
            "text/plain": [
              "13"
            ]
          },
          "execution_count": 19,
          "metadata": {},
          "output_type": "execute_result"
        }
      ],
      "source": [
        "total"
      ]
    },
    {
      "cell_type": "code",
      "execution_count": null,
      "metadata": {
        "colab": {
          "base_uri": "https://localhost:8080/"
        },
        "id": "v3LbjRnEh_sU",
        "outputId": "f4ba8a4b-020e-403b-cee4-534c3dad683b"
      },
      "outputs": [
        {
          "data": {
            "text/plain": [
              "25"
            ]
          },
          "execution_count": 20,
          "metadata": {},
          "output_type": "execute_result"
        }
      ],
      "source": [
        "apples**2 #square the number of apples (i.e 5**2)"
      ]
    },
    {
      "cell_type": "code",
      "execution_count": null,
      "metadata": {
        "id": "PyMaiewtiRRu"
      },
      "outputs": [],
      "source": [
        "cost_per_apple = 0.25"
      ]
    },
    {
      "cell_type": "code",
      "execution_count": null,
      "metadata": {
        "id": "ssPAIuNCiRT6"
      },
      "outputs": [],
      "source": [
        "total_apple_costs = cost_per_apple * apples #cost of all 5 apples"
      ]
    },
    {
      "cell_type": "code",
      "execution_count": null,
      "metadata": {
        "colab": {
          "base_uri": "https://localhost:8080/"
        },
        "id": "NRZizjgRiRWB",
        "outputId": "9323b575-d69a-49df-caa3-72286f7c8861"
      },
      "outputs": [
        {
          "data": {
            "text/plain": [
              "1.25"
            ]
          },
          "execution_count": 23,
          "metadata": {},
          "output_type": "execute_result"
        }
      ],
      "source": [
        "total_apple_costs #0.25*5"
      ]
    },
    {
      "cell_type": "markdown",
      "metadata": {
        "id": "NrZeHmA2pF7-"
      },
      "source": [
        "### Vectors"
      ]
    },
    {
      "cell_type": "code",
      "execution_count": null,
      "metadata": {
        "id": "8IZ5UUuriRcT"
      },
      "outputs": [],
      "source": [
        "#numpy for numerical operations\n",
        "import numpy as np\n",
        "# matplotlib.pyplot for plotting\n",
        "import matplotlib.pyplot as plt"
      ]
    },
    {
      "cell_type": "code",
      "execution_count": null,
      "metadata": {
        "colab": {
          "base_uri": "https://localhost:8080/"
        },
        "id": "eVVE2-PXiRe2",
        "outputId": "8c059220-7e27-4ba4-8879-8a4814ac784d"
      },
      "outputs": [
        {
          "output_type": "execute_result",
          "data": {
            "text/plain": [
              "array([0, 1, 2, 3, 4, 5, 6, 7, 8, 9])"
            ]
          },
          "metadata": {},
          "execution_count": 5
        }
      ],
      "source": [
        "# creating an array of integers\n",
        "np.arange(10) #starting from 0 and going up to 10 but not including 10"
      ]
    },
    {
      "cell_type": "code",
      "execution_count": null,
      "metadata": {
        "id": "lxDda9rPiRgr"
      },
      "outputs": [],
      "source": [
        "x = np.arange(10)"
      ]
    },
    {
      "cell_type": "code",
      "execution_count": null,
      "metadata": {
        "colab": {
          "base_uri": "https://localhost:8080/"
        },
        "id": "WLNa80A1iRiv",
        "outputId": "a837e3d0-b475-4273-93fd-fb88b7f3cb7e"
      },
      "outputs": [
        {
          "output_type": "execute_result",
          "data": {
            "text/plain": [
              "array([0, 1, 2, 3, 4, 5, 6, 7, 8, 9])"
            ]
          },
          "metadata": {},
          "execution_count": 7
        }
      ],
      "source": [
        "x #printing the array"
      ]
    },
    {
      "cell_type": "code",
      "execution_count": null,
      "metadata": {
        "id": "wvBymvO6iRk9"
      },
      "outputs": [],
      "source": [
        "y = 3 * x + 5 #plugging in the values of array x to y"
      ]
    },
    {
      "cell_type": "code",
      "execution_count": null,
      "metadata": {
        "colab": {
          "base_uri": "https://localhost:8080/"
        },
        "id": "R0caJJvuiRnD",
        "outputId": "7151bd53-0e0e-4b64-9413-81725d3c9e16"
      },
      "outputs": [
        {
          "output_type": "execute_result",
          "data": {
            "text/plain": [
              "array([ 5,  8, 11, 14, 17, 20, 23, 26, 29, 32])"
            ]
          },
          "metadata": {},
          "execution_count": 9
        }
      ],
      "source": [
        "y #printing the new array (y)"
      ]
    },
    {
      "cell_type": "code",
      "execution_count": null,
      "metadata": {
        "id": "BfLYoPWpvAft"
      },
      "outputs": [],
      "source": [
        "# x = np.array([133,24,333,4,5,6])\n",
        "# y = np.array([11,22,33,44,55,66])"
      ]
    },
    {
      "cell_type": "code",
      "execution_count": null,
      "metadata": {
        "colab": {
          "base_uri": "https://localhost:8080/"
        },
        "id": "_mgPXYE-HS0z",
        "outputId": "2044282f-e56d-4c1e-8a3f-ee89b5167cd9"
      },
      "outputs": [
        {
          "output_type": "execute_result",
          "data": {
            "text/plain": [
              "(array([0, 1, 2, 3, 4, 5, 6, 7, 8, 9]),\n",
              " array([ 5,  8, 11, 14, 17, 20, 23, 26, 29, 32]))"
            ]
          },
          "metadata": {},
          "execution_count": 11
        }
      ],
      "source": [
        "x,y #the x and y coordinates (array coordinates)"
      ]
    },
    {
      "cell_type": "markdown",
      "metadata": {
        "id": "SSehamg7pVQ-"
      },
      "source": [
        "### Plotting"
      ]
    },
    {
      "cell_type": "code",
      "execution_count": null,
      "metadata": {
        "colab": {
          "base_uri": "https://localhost:8080/",
          "height": 447
        },
        "id": "lv2MktRkvAru",
        "outputId": "526714a5-1e47-4ce6-bfd9-3f81b2627590"
      },
      "outputs": [
        {
          "output_type": "execute_result",
          "data": {
            "text/plain": [
              "[<matplotlib.lines.Line2D at 0x7c8be874abf0>]"
            ]
          },
          "metadata": {},
          "execution_count": 12
        },
        {
          "output_type": "display_data",
          "data": {
            "text/plain": [
              "<Figure size 640x480 with 1 Axes>"
            ],
            "image/png": "[encoded data removed]"
          },
          "metadata": {}
        }
      ],
      "source": [
        "#plotting (x,y) using the values above for x and for y\n",
        "plt.plot(x,y)"
      ]
    },
    {
      "cell_type": "code",
      "execution_count": null,
      "metadata": {
        "colab": {
          "base_uri": "https://localhost:8080/",
          "height": 447
        },
        "id": "q_SC501IvNyQ",
        "outputId": "8cf39d27-5112-4309-d363-c106662ea2e3"
      },
      "outputs": [
        {
          "output_type": "execute_result",
          "data": {
            "text/plain": [
              "[<matplotlib.lines.Line2D at 0x7c8be8657070>]"
            ]
          },
          "metadata": {},
          "execution_count": 13
        },
        {
          "output_type": "display_data",
          "data": {
            "text/plain": [
              "<Figure size 640x480 with 1 Axes>"
            ],
            "image/png": "[encoded data removed]"
          },
          "metadata": {}
        }
      ],
      "source": [
        "#plotting same function but in blue dots\n",
        "plt.plot(x,y,'.')"
      ]
    },
    {
      "cell_type": "code",
      "execution_count": null,
      "metadata": {
        "colab": {
          "base_uri": "https://localhost:8080/",
          "height": 447
        },
        "id": "Mp3pHMdSvPcQ",
        "outputId": "1919c577-a0bc-418b-93fb-bce48f8156ea"
      },
      "outputs": [
        {
          "data": {
            "text/plain": [
              "[<matplotlib.lines.Line2D at 0x7c87f1dcfc70>]"
            ]
          },
          "execution_count": 34,
          "metadata": {},
          "output_type": "execute_result"
        },
        {
          "data": {
            "image/png": "[encoded data removed]",
            "text/plain": [
              "<Figure size 640x480 with 1 Axes>"
            ]
          },
          "metadata": {},
          "output_type": "display_data"
        }
      ],
      "source": [
        "#plotting same function but in red dots\n",
        "plt.plot(x,y,'r.')"
      ]
    },
    {
      "cell_type": "code",
      "execution_count": null,
      "metadata": {
        "colab": {
          "base_uri": "https://localhost:8080/",
          "height": 447
        },
        "id": "2_sDDZyhvREK",
        "outputId": "090e9c0e-93c0-47f1-df96-b9910683c57c"
      },
      "outputs": [
        {
          "data": {
            "text/plain": [
              "[<matplotlib.lines.Line2D at 0x7c87f1cbb880>]"
            ]
          },
          "execution_count": 36,
          "metadata": {},
          "output_type": "execute_result"
        },
        {
          "data": {
            "image/png": "[encoded data removed]",
            "text/plain": [
              "<Figure size 640x480 with 1 Axes>"
            ]
          },
          "metadata": {},
          "output_type": "display_data"
        }
      ],
      "source": [
        "#plotting same function in dashed blue line\n",
        "plt.plot(x,y,'b--')"
      ]
    },
    {
      "cell_type": "code",
      "execution_count": null,
      "metadata": {
        "id": "5xxvUltOiRrY"
      },
      "outputs": [],
      "source": [
        "#important to import this before plotting\n",
        "import matplotlib.pyplot as plt"
      ]
    },
    {
      "cell_type": "code",
      "execution_count": null,
      "metadata": {
        "colab": {
          "base_uri": "https://localhost:8080/",
          "height": 447
        },
        "id": "7GqRu33ziRx6",
        "outputId": "a62571ae-760f-475d-aa86-3a00a85b77fe"
      },
      "outputs": [
        {
          "data": {
            "text/plain": [
              "[<matplotlib.lines.Line2D at 0x7c87f1b51390>]"
            ]
          },
          "execution_count": 38,
          "metadata": {},
          "output_type": "execute_result"
        },
        {
          "data": {
            "image/png": "[encoded data removed]",
            "text/plain": [
              "<Figure size 640x480 with 1 Axes>"
            ]
          },
          "metadata": {},
          "output_type": "display_data"
        }
      ],
      "source": [
        "plt.plot(x,y)"
      ]
    },
    {
      "cell_type": "markdown",
      "metadata": {
        "id": "ieVMsrjc5ggE"
      },
      "source": [
        "### Creating a curve"
      ]
    },
    {
      "cell_type": "code",
      "execution_count": null,
      "metadata": {
        "id": "W9d-C2GkpavQ"
      },
      "outputs": [],
      "source": [
        "# creating an array of 10 numbers\n",
        "x = np.linspace(0,5,10) #from 0 to 5"
      ]
    },
    {
      "cell_type": "code",
      "execution_count": null,
      "metadata": {
        "colab": {
          "base_uri": "https://localhost:8080/"
        },
        "id": "xm4FuiXapaxM",
        "outputId": "355cb49b-77b9-479e-e3f8-9e111a0085b7"
      },
      "outputs": [
        {
          "output_type": "execute_result",
          "data": {
            "text/plain": [
              "array([0.        , 0.55555556, 1.11111111, 1.66666667, 2.22222222,\n",
              "       2.77777778, 3.33333333, 3.88888889, 4.44444444, 5.        ])"
            ]
          },
          "metadata": {},
          "execution_count": 15
        }
      ],
      "source": [
        "x #array x"
      ]
    },
    {
      "cell_type": "code",
      "execution_count": null,
      "metadata": {
        "id": "EFVXNTBlpazx"
      },
      "outputs": [],
      "source": [
        "y = x**2 #squaring the values in array x to get array y"
      ]
    },
    {
      "cell_type": "code",
      "source": [
        "y #array y"
      ],
      "metadata": {
        "colab": {
          "base_uri": "https://localhost:8080/"
        },
        "id": "xgsadphLOGYc",
        "outputId": "a298adaf-1cb0-4cae-9c56-8b1dfc242447"
      },
      "execution_count": null,
      "outputs": [
        {
          "output_type": "execute_result",
          "data": {
            "text/plain": [
              "array([ 0.        ,  0.30864198,  1.2345679 ,  2.77777778,  4.9382716 ,\n",
              "        7.71604938, 11.11111111, 15.12345679, 19.75308642, 25.        ])"
            ]
          },
          "metadata": {},
          "execution_count": 17
        }
      ]
    },
    {
      "cell_type": "code",
      "execution_count": null,
      "metadata": {
        "colab": {
          "base_uri": "https://localhost:8080/",
          "height": 447
        },
        "id": "zeDSPzcypa3l",
        "outputId": "3b610f5d-a064-4c8e-e43e-a318f2df7129"
      },
      "outputs": [
        {
          "data": {
            "text/plain": [
              "[<matplotlib.lines.Line2D at 0x7c87f1bbd870>]"
            ]
          },
          "execution_count": 42,
          "metadata": {},
          "output_type": "execute_result"
        },
        {
          "data": {
            "image/png": "[encoded data removed]",
            "text/plain": [
              "<Figure size 640x480 with 1 Axes>"
            ]
          },
          "metadata": {},
          "output_type": "display_data"
        }
      ],
      "source": [
        "#plotting the array of x against array of y\n",
        "plt.plot(x,y)"
      ]
    },
    {
      "cell_type": "code",
      "execution_count": null,
      "metadata": {
        "colab": {
          "base_uri": "https://localhost:8080/",
          "height": 472
        },
        "id": "Ya-NbJXBpa79",
        "outputId": "cc0dd681-0f86-4aed-f209-36b4b3393ab6"
      },
      "outputs": [
        {
          "data": {
            "image/png": "[encoded data removed]",
            "text/plain": [
              "<Figure size 640x480 with 1 Axes>"
            ]
          },
          "metadata": {},
          "output_type": "display_data"
        }
      ],
      "source": [
        "plt.plot(x,y)\n",
        "plt.title(\"New Graph of x**2\"); #adding title to the graph\n",
        "plt.xlabel(\"x\"); #labeling the x axis as \"x\"\n",
        "plt.ylabel(\"y\"); #lableing the y axis as \"y\""
      ]
    },
    {
      "cell_type": "code",
      "execution_count": null,
      "metadata": {
        "colab": {
          "base_uri": "https://localhost:8080/",
          "height": 489
        },
        "id": "XaKFm2-1iR0D",
        "outputId": "bc063656-e41e-4280-b788-d2da8beb7772"
      },
      "outputs": [
        {
          "output_type": "execute_result",
          "data": {
            "text/plain": [
              "<matplotlib.legend.Legend at 0x7c8bd0a55e70>"
            ]
          },
          "metadata": {},
          "execution_count": 18
        },
        {
          "output_type": "display_data",
          "data": {
            "text/plain": [
              "<Figure size 640x480 with 1 Axes>"
            ],
            "image/png": "[encoded data removed]"
          },
          "metadata": {}
        }
      ],
      "source": [
        "plt.plot(x,y,label=\"x squared\") #the legend\n",
        "plt.title(\"Graph of x**2\"); #plot title\n",
        "plt.xlabel(\"x\"); #labeling x axis\n",
        "plt.ylabel(\"y\"); #labeling y axis\n",
        "plt.legend() #legend i.e. key to the plot"
      ]
    },
    {
      "cell_type": "markdown",
      "metadata": {
        "id": "fCdeoosJ7e8S"
      },
      "source": [
        "### How to plot; linear curve, quadratic curve, and cubic curve"
      ]
    },
    {
      "cell_type": "code",
      "execution_count": null,
      "metadata": {
        "colab": {
          "base_uri": "https://localhost:8080/",
          "height": 489
        },
        "id": "QySsAtYkCZ-M",
        "outputId": "a4b1e1d4-984d-4194-a40f-e17c5680080e"
      },
      "outputs": [
        {
          "data": {
            "text/plain": [
              "<matplotlib.legend.Legend at 0x7c87f1d8f070>"
            ]
          },
          "execution_count": 45,
          "metadata": {},
          "output_type": "execute_result"
        },
        {
          "data": {
            "image/png": "[encoded data removed]",
            "text/plain": [
              "<Figure size 640x480 with 1 Axes>"
            ]
          },
          "metadata": {},
          "output_type": "display_data"
        }
      ],
      "source": [
        "#creating an array of 100 numbers between 0 and 2\n",
        "x = np.linspace(0, 2, 100)\n",
        "\n",
        "plt.plot(x, x, label='linear') #legend\n",
        "plt.plot(x, x**2, label='quadratic') #legend\n",
        "plt.plot(x, x**3, label='cubic') #legend\n",
        "\n",
        "plt.xlabel('x label') #labeling the x axis\n",
        "plt.ylabel('y label') #labeling the y axis\n",
        "\n",
        "plt.title(\"Simple Plot\") #plot title\n",
        "\n",
        "plt.legend() #display the legend"
      ]
    },
    {
      "cell_type": "markdown",
      "metadata": {
        "id": "Lr39AJ9f80Ne"
      },
      "source": [
        "### How to make a pie chart"
      ]
    },
    {
      "cell_type": "code",
      "execution_count": null,
      "metadata": {
        "colab": {
          "base_uri": "https://localhost:8080/",
          "height": 406
        },
        "id": "GXCljzCzHK8v",
        "outputId": "19544c28-c4ac-428d-92e0-724b82a0c262"
      },
      "outputs": [
        {
          "data": {
            "image/png": "[encoded data removed]",
            "text/plain": [
              "<Figure size 640x480 with 1 Axes>"
            ]
          },
          "metadata": {},
          "output_type": "display_data"
        }
      ],
      "source": [
        "labels = 'Frogs', 'Dogs', 'Cats', 'Birds' #labeling each slice\n",
        "sizes = [15, 30, 40, 15] #size in percentages\n",
        "explode = (0, 0.1, 0, 0)  # only \"explode\" the 2nd slice (i.e. 'Dogs') #i.e. the orange slice\n",
        "\n",
        "fig1, ax1 = plt.subplots()\n",
        "ax1.pie(sizes, explode=explode, labels=labels, autopct='%1.1f%%', shadow=True, startangle=90)\n",
        "ax1.axis('equal')  # Equal aspect ratio ensures that pie is drawn as a circle.\n",
        "plt.show() #display the chart"
      ]
    },
    {
      "cell_type": "markdown",
      "metadata": {
        "id": "D0RWK3Lh95Qm"
      },
      "source": [
        "### Graph of Sin function"
      ]
    },
    {
      "cell_type": "code",
      "execution_count": null,
      "metadata": {
        "colab": {
          "base_uri": "https://localhost:8080/",
          "height": 462
        },
        "id": "cbJTtIWUHKNn",
        "outputId": "37cb837d-9625-46a1-a52e-77f53df2675c"
      },
      "outputs": [
        {
          "data": {
            "image/png": "[encoded data removed]",
            "text/plain": [
              "<Figure size 640x480 with 1 Axes>"
            ]
          },
          "metadata": {},
          "output_type": "display_data"
        }
      ],
      "source": [
        "import numpy as np #for numerical operations\n",
        "import matplotlib.pyplot as plt #for creating plots\n",
        "\n",
        "#array 't' with values from 0.0 to 2.0, with a step of 0.01\n",
        "t = np.arange(0.0, 2.0, 0.01) #(start, stop, step)\n",
        "\n",
        "s = np.sin(2*np.pi*t) #to compute the sine of 2*pi*t for each element in t\n",
        "\n",
        "#plotting t vs s\n",
        "plt.plot(t, s) #t is the x axis, s is the y axis\n",
        "plt.title(r'$\\alpha_i > \\beta_i$', fontsize=20) #title of the plot, its font size\n",
        "plt.text(1, -0.6, r'$\\sum_{i=0}^\\infty x_i$', fontsize=20) #summation that will be displayed in the plot\n",
        "plt.text(0.5, 0.6, r'$\\mathcal{A}\\mathrm{sin}(2 \\omega t)$',fontsize=15) #more text to be displayed in the plot\n",
        "plt.xlabel=('time (s)') #time in seconds\n",
        "plt.ylabel=('volts (mV)') #volts in mV\n",
        "plt.grid(True) #show grid lines (just like in a math notebook)\n",
        "plt.show() #show plot"
      ]
    },
    {
      "cell_type": "markdown",
      "metadata": {
        "id": "aBIah-uiGUXZ"
      },
      "source": [
        "Plot the following functions from $x = -10$ to $x = 10$\n",
        "\n",
        "(Hint: np.sin, np.exp)"
      ]
    },
    {
      "cell_type": "markdown",
      "metadata": {
        "id": "5HATIyQyGfEj"
      },
      "source": [
        "$y = 10x+7$\n",
        "\n",
        "$y = -3x-12$\n",
        "\n",
        "$y=\\sin(x)$\n",
        "\n",
        "$y=e^x$\n",
        "\n",
        "$y=e^{-x^2}$"
      ]
    },
    {
      "cell_type": "code",
      "execution_count": null,
      "metadata": {
        "colab": {
          "base_uri": "https://localhost:8080/",
          "height": 469
        },
        "id": "rWySJ87x_nAt",
        "outputId": "b0e8a021-9d66-49e3-90d1-3df1e1b1a8e7"
      },
      "outputs": [
        {
          "data": {
            "text/plain": [
              "<function matplotlib.pyplot.show(close=None, block=None)>"
            ]
          },
          "execution_count": 79,
          "metadata": {},
          "output_type": "execute_result"
        },
        {
          "data": {
            "image/png": "[encoded data removed]",
            "text/plain": [
              "<Figure size 640x480 with 1 Axes>"
            ]
          },
          "metadata": {},
          "output_type": "display_data"
        }
      ],
      "source": [
        "#importing libraries\n",
        "import numpy as np #for numerical operations\n",
        "import matplotlib.pyplot as plt #for creating plots\n",
        "import math #for mathmatical operations\n",
        "#range of x (from -10 to 10 in this example)\n",
        "x=np.linspace(-10,10)\n",
        "\n",
        "#varius y's\n",
        "y1 = 10*x +7\n",
        "y2 = -3*x -12\n",
        "y3 = np.sin(x)\n",
        "y4 = np.exp(x)\n",
        "y5 = np.exp(-x**2)\n",
        "\n",
        "plt.plot(x, y1, label='y = 10x + 7') #legend\n",
        "plt.plot(x, y2, label='y = -3x - 12') #legend\n",
        "plt.plot(x, y3, label='y = sin(x)') #legend\n",
        "plt.plot(x, y4, label='y = e^x') #legend\n",
        "plt.plot(x, y5, label='y = e^(-x^2)') #legend\n",
        "\n",
        "plt.xlabel='x' #labeling the x axis\n",
        "plt.ylabel='y' #labling the y axis\n",
        "plt.title(\"Varius Functions on the xy Plane\") #plot title\n",
        "plt.legend() #the key\n",
        "plt.grid(True)\n",
        "plt.show"
      ]
    },
    {
      "cell_type": "markdown",
      "metadata": {
        "id": "Q2U8OqGtlEI1"
      },
      "source": [
        "### Same five functions but plotted separately"
      ]
    },
    {
      "cell_type": "code",
      "execution_count": null,
      "metadata": {
        "colab": {
          "base_uri": "https://localhost:8080/",
          "height": 1000
        },
        "id": "buSqP6mJlXks",
        "outputId": "dda88798-dffa-4c8e-e5ed-654caaa48d12"
      },
      "outputs": [
        {
          "data": {
            "image/png": "[encoded data removed]",
            "text/plain": [
              "<Figure size 640x480 with 1 Axes>"
            ]
          },
          "metadata": {},
          "output_type": "display_data"
        },
        {
          "data": {
            "image/png": "[encoded data removed]",
            "text/plain": [
              "<Figure size 640x480 with 1 Axes>"
            ]
          },
          "metadata": {},
          "output_type": "display_data"
        },
        {
          "data": {
            "image/png": "[encoded data removed]",
            "text/plain": [
              "<Figure size 640x480 with 1 Axes>"
            ]
          },
          "metadata": {},
          "output_type": "display_data"
        },
        {
          "data": {
            "image/png": "[encoded data removed]",
            "text/plain": [
              "<Figure size 640x480 with 1 Axes>"
            ]
          },
          "metadata": {},
          "output_type": "display_data"
        },
        {
          "data": {
            "image/png": "[encoded data removed]",
            "text/plain": [
              "<Figure size 640x480 with 1 Axes>"
            ]
          },
          "metadata": {},
          "output_type": "display_data"
        }
      ],
      "source": [
        "import numpy as np\n",
        "import matplotlib.pyplot as plt\n",
        "import math\n",
        "#the range of x (from -10 to 10 in this example)\n",
        "x=np.linspace(-10,10)\n",
        "\n",
        "y1 = 10*x +7\n",
        "plt.title('y = 10x + 7')\n",
        "plt.xlabel='x'\n",
        "plt.ylabel='y'\n",
        "plt.plot(x, y1, label='y = 10x + 7')\n",
        "plt.grid(True)\n",
        "plt.show()\n",
        "\n",
        "y2 = -3*x -12\n",
        "plt.title('y = -3x - 12')\n",
        "plt.xlabel='x'\n",
        "plt.ylabel='y'\n",
        "plt.plot(x, y2, label='y = -3x - 12')\n",
        "plt.grid(True)\n",
        "plt.show()\n",
        "\n",
        "y3 = np.sin(x)\n",
        "plt.title('y = sin(x)')\n",
        "plt.xlabel='x'\n",
        "plt.ylabel='y'\n",
        "plt.plot(x, y3, label='y = sin(x)')\n",
        "plt.grid(True)\n",
        "plt.show()\n",
        "\n",
        "y4 = np.exp(x)\n",
        "plt.title('y = e^x')\n",
        "plt.xlabel='x'\n",
        "plt.ylabel='y'\n",
        "plt.plot(x, y4, label='y = e^x')\n",
        "plt.grid(True)\n",
        "plt.show()\n",
        "\n",
        "y5 = np.exp(-x**2)\n",
        "plt.title('y = e^(-x^2)')\n",
        "plt.xlabel='x'\n",
        "plt.ylabel='y'\n",
        "plt.plot(x, y5, label='y = e^(-x^2)')\n",
        "plt.grid(True)\n",
        "plt.show()"
      ]
    },
    {
      "cell_type": "markdown",
      "metadata": {
        "id": "on4xwGLFX9-I"
      },
      "source": [
        "### Plotting Success Levels"
      ]
    },
    {
      "cell_type": "markdown",
      "metadata": {
        "id": "t0g5nhtbHfta"
      },
      "source": [
        "Pick out a plot of your choice from [here](https://matplotlib.org/stable/gallery/index.html), copy the code to this notebook, run, and document to the best of your abilities."
      ]
    },
    {
      "cell_type": "markdown",
      "metadata": {
        "id": "mcTrul8YlAoJ"
      },
      "source": []
    },
    {
      "cell_type": "code",
      "execution_count": null,
      "metadata": {
        "colab": {
          "base_uri": "https://localhost:8080/",
          "height": 478
        },
        "id": "2LWMYXMCHg6P",
        "outputId": "7bf82a51-1c28-4c8e-e17e-0427d81bac98"
      },
      "outputs": [
        {
          "data": {
            "image/png": "[encoded data removed]",
            "text/plain": [
              "<Figure size 640x480 with 1 Axes>"
            ]
          },
          "metadata": {},
          "output_type": "display_data"
        }
      ],
      "source": [
        "#importing libraries\n",
        "import matplotlib.pyplot as plt #to create plots\n",
        "import numpy as np #for numerical operations\n",
        "\n",
        "from matplotlib.colors import Normalize #normalizing color scale\n",
        "from matplotlib.markers import MarkerStyle #costum marker styles\n",
        "from matplotlib.text import TextPath #creating text based paths\n",
        "from matplotlib.transforms import Affine2D #for applying affine transformations to objects\n",
        "\n",
        "#symbols for plotting\n",
        "SUCCESS_SYMBOLS = [\n",
        "    TextPath((0, 0), \"☹\"),\n",
        "    TextPath((0, 0), \"😒\"),\n",
        "    TextPath((0, 0), \"☺\"),\n",
        "]\n",
        "\n",
        "N = 25 # N data points\n",
        "skills = np.random.uniform(5, 80, size=N) * 0.1 + 5 #random (scaled) skill levels\n",
        "takeoff_angles = np.random.normal(0, 90, N) #random takeoff angles (normal distribution)\n",
        "thrusts = np.random.uniform(size=N) # random thrust values (uniform distribution)\n",
        "successful = np.random.randint(0, 3, size=N) #random mood indices (0, 1, or 2)\n",
        "positions = np.random.normal(size=(N, 2)) * 5 #random 2D positions (normal distribution)\n",
        "data = zip(skills, takeoff_angles, thrusts, successful, positions) #zipping data together\n",
        "\n",
        "cmap = plt.colormaps[\"jet\"]\n",
        "fig, ax = plt.subplots()\n",
        "fig.suptitle(\"Throwing success\", size=14) #figure title\n",
        "#plotting the data\n",
        "for skill, takeoff, thrust, mood, pos in data:\n",
        "    t = Affine2D().scale(skill).rotate_deg(takeoff) #transforming the marker based on skill and takeoff angle\n",
        "    m = MarkerStyle(SUCCESS_SYMBOLS[mood], transform=t) #using the transromed text path to create a costum marker style\n",
        "    ax.plot(pos[0], pos[1], marker=m, color=cmap(thrust)) #plotting each point with a costum marker\n",
        "\n",
        "\n",
        "plt.show()"
      ]
    },
    {
      "cell_type": "code",
      "execution_count": null,
      "metadata": {
        "id": "Zp5utNcWI6Qj"
      },
      "outputs": [],
      "source": []
    },
    {
      "cell_type": "code",
      "execution_count": null,
      "metadata": {
        "id": "ZU7yJ91lI6aS"
      },
      "outputs": [],
      "source": []
    },
    {
      "cell_type": "code",
      "execution_count": null,
      "metadata": {
        "id": "OqlbqmRcI6kY"
      },
      "outputs": [],
      "source": []
    },
    {
      "cell_type": "markdown",
      "metadata": {
        "id": "lrL2Razq9AT7"
      },
      "source": [
        "### Graphics Output"
      ]
    },
    {
      "cell_type": "code",
      "execution_count": null,
      "metadata": {
        "id": "SS8HqWzEEs8l"
      },
      "outputs": [],
      "source": [
        "#importing functions from python to display HTML content\n",
        "from IPython.core.display import display, HTML"
      ]
    },
    {
      "cell_type": "code",
      "execution_count": null,
      "metadata": {
        "colab": {
          "base_uri": "https://localhost:8080/",
          "height": 74
        },
        "id": "scoPAjX5I36X",
        "outputId": "1b567709-029e-404a-b261-9cb33093a7ba"
      },
      "outputs": [
        {
          "data": {
            "text/html": [
              "<h1>Hello World!</h1>"
            ],
            "text/plain": [
              "<IPython.core.display.HTML object>"
            ]
          },
          "metadata": {},
          "output_type": "display_data"
        }
      ],
      "source": [
        "display(HTML('<h1>Hello World!</h1>')) #display of \"Hello World!\" (the HTML content)"
      ]
    },
    {
      "cell_type": "code",
      "execution_count": null,
      "metadata": {
        "id": "GEu7DDYRYcQa"
      },
      "outputs": [],
      "source": []
    },
    {
      "cell_type": "markdown",
      "metadata": {
        "id": "dTOHPs3KFQ2U"
      },
      "source": [
        "### Numpy - Numerical Python"
      ]
    },
    {
      "cell_type": "markdown",
      "metadata": {
        "id": "G6_1Sh0KYXR9"
      },
      "source": [
        "### Print random numbers"
      ]
    },
    {
      "cell_type": "code",
      "execution_count": null,
      "metadata": {
        "id": "BC1S6fo9FOBE"
      },
      "outputs": [],
      "source": [
        "import numpy as np #for numerical operations"
      ]
    },
    {
      "cell_type": "code",
      "execution_count": null,
      "metadata": {
        "colab": {
          "base_uri": "https://localhost:8080/"
        },
        "id": "Qo72tOfu5YTm",
        "outputId": "19c52c28-0d5e-451b-c5bb-3c2a01a93c95"
      },
      "outputs": [
        {
          "output_type": "execute_result",
          "data": {
            "text/plain": [
              "0.21464079239047995"
            ]
          },
          "metadata": {},
          "execution_count": 21
        }
      ],
      "source": [
        "#generating random number between 0 and 1\n",
        "np.random.random() #[0.0, 1.0)"
      ]
    },
    {
      "cell_type": "code",
      "execution_count": null,
      "metadata": {
        "id": "Ew6vCebg5aXK"
      },
      "outputs": [],
      "source": [
        "#generating another random number\n",
        "np.random.random() > 0.5; #comparing the random number to 0.5"
      ]
    },
    {
      "cell_type": "markdown",
      "metadata": {
        "id": "EylAgCCIYli_"
      },
      "source": [
        "True or False"
      ]
    },
    {
      "cell_type": "code",
      "execution_count": null,
      "metadata": {
        "colab": {
          "base_uri": "https://localhost:8080/"
        },
        "id": "9Kxax1cSKi0e",
        "outputId": "2bd892b1-ed2c-4a12-9cf6-bd1443238e07"
      },
      "outputs": [
        {
          "name": "stdout",
          "output_type": "stream",
          "text": [
            "0.6026968930036013\n"
          ]
        },
        {
          "data": {
            "text/plain": [
              "True"
            ]
          },
          "execution_count": 6,
          "metadata": {},
          "output_type": "execute_result"
        }
      ],
      "source": [
        "#generating a random number r and comparing it to 0.5\n",
        "r = np.random.random(); print(r); r >0.5"
      ]
    },
    {
      "cell_type": "code",
      "execution_count": null,
      "metadata": {
        "colab": {
          "base_uri": "https://localhost:8080/"
        },
        "id": "wGJ6FEojKjB1",
        "outputId": "b9831811-e54a-4f2a-de8a-aeb3df1a8820"
      },
      "outputs": [
        {
          "data": {
            "text/plain": [
              "0.6026968930036013"
            ]
          },
          "execution_count": 7,
          "metadata": {},
          "output_type": "execute_result"
        }
      ],
      "source": [
        "#print r\n",
        "r"
      ]
    },
    {
      "cell_type": "code",
      "execution_count": null,
      "metadata": {
        "colab": {
          "base_uri": "https://localhost:8080/"
        },
        "id": "mclzEhslKjPP",
        "outputId": "1694a277-222d-42f4-ae88-c820af15cd12"
      },
      "outputs": [
        {
          "data": {
            "text/plain": [
              "True"
            ]
          },
          "execution_count": 8,
          "metadata": {},
          "output_type": "execute_result"
        }
      ],
      "source": [
        "r > 0.5 #is r greater than 0.5?"
      ]
    },
    {
      "cell_type": "code",
      "execution_count": null,
      "metadata": {
        "id": "2mcw6yU1KjfO"
      },
      "outputs": [],
      "source": []
    },
    {
      "cell_type": "code",
      "execution_count": null,
      "metadata": {
        "id": "LnQJtIIEKjt-"
      },
      "outputs": [],
      "source": []
    },
    {
      "cell_type": "code",
      "execution_count": null,
      "metadata": {
        "id": "eueTYbXdJ_wy"
      },
      "outputs": [],
      "source": []
    },
    {
      "cell_type": "markdown",
      "metadata": {
        "id": "NzXs0Oo6YwEr"
      },
      "source": [
        "### Heads or Tails"
      ]
    },
    {
      "cell_type": "code",
      "execution_count": null,
      "metadata": {
        "id": "HwbqZHbm5e2u"
      },
      "outputs": [],
      "source": [
        "#simulating a coin flip\n",
        "def flip_coin(): #50-50 chance\n",
        "    if np.random.random() > 0.5: #generating random number between 0 and 1 and comparing it to 0.5\n",
        "        print(\"Heads\") #if the number is greater than 0.5 print \"Heads\"\n",
        "    else:\n",
        "        print(\"Tails\") #if the number is less than or equal to 0.5 print \"Tails\""
      ]
    },
    {
      "cell_type": "code",
      "execution_count": null,
      "metadata": {
        "colab": {
          "base_uri": "https://localhost:8080/"
        },
        "id": "ZcbnR1ln5sNh",
        "outputId": "d5e53a70-1317-4058-e214-5ce5df1db3bb"
      },
      "outputs": [
        {
          "name": "stdout",
          "output_type": "stream",
          "text": [
            "Heads\n"
          ]
        }
      ],
      "source": [
        "flip_coin()"
      ]
    },
    {
      "cell_type": "code",
      "execution_count": null,
      "metadata": {
        "colab": {
          "base_uri": "https://localhost:8080/"
        },
        "id": "VNb9hPJuLqWF",
        "outputId": "fd898493-8391-4a09-87fa-3b4158508618"
      },
      "outputs": [
        {
          "output_type": "execute_result",
          "data": {
            "text/plain": [
              "16"
            ]
          },
          "metadata": {},
          "execution_count": 29
        }
      ],
      "source": [
        "np.random.randint(15,20) #random integer (15,19]"
      ]
    },
    {
      "cell_type": "code",
      "execution_count": null,
      "metadata": {
        "id": "vFHNmtSRpyXg"
      },
      "outputs": [],
      "source": [
        "def coin():\n",
        "  return np.random.randint(2) #generates either 0 or 1"
      ]
    },
    {
      "cell_type": "code",
      "execution_count": null,
      "metadata": {
        "colab": {
          "base_uri": "https://localhost:8080/"
        },
        "id": "AfAPWIjzp2gY",
        "outputId": "43f32b4a-0f5f-4a9c-afb2-72e08be86516"
      },
      "outputs": [
        {
          "output_type": "execute_result",
          "data": {
            "text/plain": [
              "0"
            ]
          },
          "metadata": {},
          "execution_count": 39
        }
      ],
      "source": [
        "coin()"
      ]
    },
    {
      "cell_type": "code",
      "execution_count": null,
      "metadata": {
        "id": "auZvflfEZjTR"
      },
      "outputs": [],
      "source": [
        "def coin():\n",
        "  return np.random.randint(3) #generates either 0, 1 or 2\n",
        "  #simulating a three sided coin (in reality this doesn't exist because a coin has only two sides to it)"
      ]
    },
    {
      "cell_type": "code",
      "execution_count": null,
      "metadata": {
        "colab": {
          "base_uri": "https://localhost:8080/"
        },
        "id": "YR7b1GXtZqEw",
        "outputId": "2ecfe932-9d08-4550-f443-7c78d9f91a94"
      },
      "outputs": [
        {
          "output_type": "execute_result",
          "data": {
            "text/plain": [
              "1"
            ]
          },
          "metadata": {},
          "execution_count": 51
        }
      ],
      "source": [
        "coin()"
      ]
    },
    {
      "cell_type": "markdown",
      "metadata": {
        "id": "a7y36YbYaTD6"
      },
      "source": [
        "### Display of Coins: Heads or Tails"
      ]
    },
    {
      "cell_type": "code",
      "execution_count": null,
      "metadata": {
        "colab": {
          "base_uri": "https://localhost:8080/",
          "height": 221
        },
        "id": "m-fkSNLTp4TH",
        "outputId": "a5d32899-ae95-41c4-bcfc-bbece344659e"
      },
      "outputs": [
        {
          "data": {
            "text/html": [
              "<img src=\"https://random-ize.com/coin-flip/us-quarter/us-quarter-front.jpg\">"
            ],
            "text/plain": [
              "<IPython.core.display.HTML object>"
            ]
          },
          "metadata": {},
          "output_type": "display_data"
        }
      ],
      "source": [
        "#display of a quarter\n",
        "display(HTML('<img src=\"https://random-ize.com/coin-flip/us-quarter/us-quarter-front.jpg\">'))"
      ]
    },
    {
      "cell_type": "code",
      "execution_count": null,
      "metadata": {
        "id": "PAyD2RQrq8ji"
      },
      "outputs": [],
      "source": [
        "#display of Heads\n",
        "heads = 'https://random-ize.com/coin-flip/us-quarter/us-quarter-front.jpg'\n",
        "#display of Tails\n",
        "tails = 'https://random-ize.com/coin-flip/us-quarter/us-quarter-back.jpg'"
      ]
    },
    {
      "cell_type": "code",
      "execution_count": null,
      "metadata": {
        "id": "BmZMzsCjrhaV"
      },
      "outputs": [],
      "source": [
        "def show_img(img): #to display the image of either heads or tails\n",
        "  display(HTML('<img src=' + img + '>'))"
      ]
    },
    {
      "cell_type": "code",
      "execution_count": null,
      "metadata": {
        "colab": {
          "base_uri": "https://localhost:8080/",
          "height": 221
        },
        "id": "UmSs0Jtrr_d2",
        "outputId": "ebb2979c-1a99-4c68-8e27-22dde247299e"
      },
      "outputs": [
        {
          "data": {
            "text/html": [
              "<img src=https://random-ize.com/coin-flip/us-quarter/us-quarter-front.jpg>"
            ],
            "text/plain": [
              "<IPython.core.display.HTML object>"
            ]
          },
          "metadata": {},
          "output_type": "display_data"
        }
      ],
      "source": [
        "show_img(heads) #show heads"
      ]
    },
    {
      "cell_type": "code",
      "execution_count": null,
      "metadata": {
        "colab": {
          "base_uri": "https://localhost:8080/",
          "height": 221
        },
        "id": "LDcFpan0sBgm",
        "outputId": "b0f7dab5-28b7-466a-d54f-c8cf92e78c33"
      },
      "outputs": [
        {
          "data": {
            "text/html": [
              "<img src=https://random-ize.com/coin-flip/us-quarter/us-quarter-back.jpg>"
            ],
            "text/plain": [
              "<IPython.core.display.HTML object>"
            ]
          },
          "metadata": {},
          "output_type": "display_data"
        }
      ],
      "source": [
        "show_img(tails) #show tails"
      ]
    },
    {
      "cell_type": "code",
      "execution_count": null,
      "metadata": {
        "id": "U1Oe2gBlsFFQ"
      },
      "outputs": [],
      "source": [
        "def flip_coin(): #play game Heads or Tails\n",
        "\n",
        "    if coin(): #if coin returns true show heads\n",
        "        show_img(heads)\n",
        "    else: #else show tails\n",
        "        show_img(tails)"
      ]
    },
    {
      "cell_type": "code",
      "execution_count": null,
      "metadata": {
        "colab": {
          "base_uri": "https://localhost:8080/",
          "height": 221
        },
        "id": "qatV0cO1tLAF",
        "outputId": "8776c60d-c7cf-4606-dfd5-aa9babda4fa8"
      },
      "outputs": [
        {
          "data": {
            "text/html": [
              "<img src=https://random-ize.com/coin-flip/us-quarter/us-quarter-front.jpg>"
            ],
            "text/plain": [
              "<IPython.core.display.HTML object>"
            ]
          },
          "metadata": {},
          "output_type": "display_data"
        }
      ],
      "source": [
        "flip_coin()"
      ]
    },
    {
      "cell_type": "code",
      "execution_count": null,
      "metadata": {
        "colab": {
          "base_uri": "https://localhost:8080/",
          "height": 1000
        },
        "id": "JK_63sBc9ze4",
        "outputId": "7fbf0ffb-8a5b-4bc8-d22c-316b01fc200b"
      },
      "outputs": [
        {
          "data": {
            "text/html": [
              "<img src=https://random-ize.com/coin-flip/us-quarter/us-quarter-back.jpg>"
            ],
            "text/plain": [
              "<IPython.core.display.HTML object>"
            ]
          },
          "metadata": {},
          "output_type": "display_data"
        },
        {
          "data": {
            "text/html": [
              "<img src=https://random-ize.com/coin-flip/us-quarter/us-quarter-back.jpg>"
            ],
            "text/plain": [
              "<IPython.core.display.HTML object>"
            ]
          },
          "metadata": {},
          "output_type": "display_data"
        },
        {
          "data": {
            "text/html": [
              "<img src=https://random-ize.com/coin-flip/us-quarter/us-quarter-front.jpg>"
            ],
            "text/plain": [
              "<IPython.core.display.HTML object>"
            ]
          },
          "metadata": {},
          "output_type": "display_data"
        },
        {
          "data": {
            "text/html": [
              "<img src=https://random-ize.com/coin-flip/us-quarter/us-quarter-front.jpg>"
            ],
            "text/plain": [
              "<IPython.core.display.HTML object>"
            ]
          },
          "metadata": {},
          "output_type": "display_data"
        },
        {
          "data": {
            "text/html": [
              "<img src=https://random-ize.com/coin-flip/us-quarter/us-quarter-back.jpg>"
            ],
            "text/plain": [
              "<IPython.core.display.HTML object>"
            ]
          },
          "metadata": {},
          "output_type": "display_data"
        }
      ],
      "source": [
        "for i in range(5): #show five coins and randomly display them as heads or tails\n",
        "    flip_coin()"
      ]
    },
    {
      "cell_type": "code",
      "execution_count": null,
      "metadata": {
        "id": "cB59QfQgFb4f"
      },
      "outputs": [],
      "source": []
    },
    {
      "cell_type": "code",
      "execution_count": null,
      "metadata": {
        "id": "x6FbWdWHGx8m"
      },
      "outputs": [],
      "source": []
    },
    {
      "cell_type": "markdown",
      "metadata": {
        "id": "xe9KExvXIFDQ"
      },
      "source": [
        "### Play with Deck of Cards"
      ]
    },
    {
      "cell_type": "code",
      "execution_count": null,
      "metadata": {
        "id": "whfcIkG8IWER"
      },
      "outputs": [],
      "source": []
    },
    {
      "cell_type": "code",
      "execution_count": null,
      "metadata": {
        "id": "ZuGAbJIC_BGM"
      },
      "outputs": [],
      "source": [
        "# Base URL components for card images\n",
        "card_url_head = \"https://www.improvemagic.com/wp-content/uploads/2020/11/\" #I dont have access to it\n",
        "card_url_tail = \".png\""
      ]
    },
    {
      "cell_type": "code",
      "execution_count": null,
      "metadata": {
        "id": "FSYUTq2F_BIx"
      },
      "outputs": [],
      "source": [
        "#arrays of suits and cards\n",
        "suit = ['k','p','s','l'] #clubs,spades,hearts,diamonds\n",
        "card = ['a','2','3','4','5','6','7','8','9','10','j','q','k']"
      ]
    },
    {
      "cell_type": "code",
      "execution_count": null,
      "metadata": {
        "id": "4UBNVwxU_BL5"
      },
      "outputs": [],
      "source": [
        "i = np.random.randint(4) #random integer 'suit'\n",
        "j = np.random.randint(13) # random integrer 'card'"
      ]
    },
    {
      "cell_type": "code",
      "execution_count": null,
      "metadata": {
        "colab": {
          "base_uri": "https://localhost:8080/"
        },
        "id": "pAx5veOKJYqk",
        "outputId": "708a3f2e-5e6e-4422-c3ee-f31d5e07aeb2"
      },
      "outputs": [
        {
          "output_type": "execute_result",
          "data": {
            "text/plain": [
              "(2, 1)"
            ]
          },
          "metadata": {},
          "execution_count": 60
        }
      ],
      "source": [
        "i,j #suit,card"
      ]
    },
    {
      "cell_type": "code",
      "execution_count": null,
      "metadata": {
        "colab": {
          "base_uri": "https://localhost:8080/",
          "height": 37
        },
        "id": "PJI87rOLADjE",
        "outputId": "3c107ccf-f4b6-492e-cfe3-438580a5d9f6"
      },
      "outputs": [
        {
          "output_type": "execute_result",
          "data": {
            "text/plain": [
              "'s'"
            ],
            "application/vnd.google.colaboratory.intrinsic+json": {
              "type": "string"
            }
          },
          "metadata": {},
          "execution_count": 61
        }
      ],
      "source": [
        "suit[i] #print random suit"
      ]
    },
    {
      "cell_type": "code",
      "execution_count": null,
      "metadata": {
        "colab": {
          "base_uri": "https://localhost:8080/",
          "height": 37
        },
        "id": "4CDlPu3QAGrB",
        "outputId": "1897d678-ed7b-4c00-d0fd-24aafa254eb7"
      },
      "outputs": [
        {
          "output_type": "execute_result",
          "data": {
            "text/plain": [
              "'2'"
            ],
            "application/vnd.google.colaboratory.intrinsic+json": {
              "type": "string"
            }
          },
          "metadata": {},
          "execution_count": 62
        }
      ],
      "source": [
        "card[j] #print random card"
      ]
    },
    {
      "cell_type": "code",
      "execution_count": null,
      "metadata": {
        "id": "JtqOFl_WAVxd"
      },
      "outputs": [],
      "source": [
        "# Defining a function that will return a Card image URL\n",
        "def card_image(card_number):\n",
        "\n",
        "    i = card_number//13\n",
        "    j = card_number%13\n",
        "\n",
        "    return suit[i]+card[j]"
      ]
    },
    {
      "cell_type": "code",
      "execution_count": null,
      "metadata": {
        "colab": {
          "base_uri": "https://localhost:8080/",
          "height": 37
        },
        "id": "K1MVgXJ-AVz0",
        "outputId": "0a952ef4-f06f-4436-cfa7-109a0fa242cf"
      },
      "outputs": [
        {
          "output_type": "execute_result",
          "data": {
            "text/plain": [
              "'k4'"
            ],
            "application/vnd.google.colaboratory.intrinsic+json": {
              "type": "string"
            }
          },
          "metadata": {},
          "execution_count": 64
        }
      ],
      "source": [
        "card_image(3)"
      ]
    },
    {
      "cell_type": "code",
      "execution_count": null,
      "metadata": {
        "id": "2TGYbXUiB1iw"
      },
      "outputs": [],
      "source": [
        "from IPython.display import Image, display #to show image\n",
        "\n",
        "def show_img(img_url): #using the url of the card images\n",
        "    display(Image(url=img_url))\n",
        "img = card_url_head + card_image(3) + card_url_tail"
      ]
    },
    {
      "cell_type": "code",
      "execution_count": null,
      "metadata": {
        "colab": {
          "base_uri": "https://localhost:8080/",
          "height": 37
        },
        "id": "_1DG4MhBNRDV",
        "outputId": "63ada7f5-5821-4561-f887-3d44749a54e6"
      },
      "outputs": [
        {
          "output_type": "execute_result",
          "data": {
            "text/plain": [
              "'https://www.improvemagic.com/wp-content/uploads/2020/11/k4.png'"
            ],
            "application/vnd.google.colaboratory.intrinsic+json": {
              "type": "string"
            }
          },
          "metadata": {},
          "execution_count": 76
        }
      ],
      "source": [
        "img"
      ]
    },
    {
      "cell_type": "code",
      "execution_count": null,
      "metadata": {
        "colab": {
          "base_uri": "https://localhost:8080/",
          "height": 333
        },
        "id": "Ve1UcoH3B5sS",
        "outputId": "0fa4caf1-502a-40ef-b7cc-f6ad1c7d449b"
      },
      "outputs": [
        {
          "output_type": "display_data",
          "data": {
            "text/html": [
              "<img src=\"https://www.improvemagic.com/wp-content/uploads/2020/11/k4.png\"/>"
            ],
            "text/plain": [
              "<IPython.core.display.Image object>"
            ]
          },
          "metadata": {}
        }
      ],
      "source": [
        "show_img(img)"
      ]
    },
    {
      "cell_type": "code",
      "execution_count": null,
      "metadata": {
        "colab": {
          "base_uri": "https://localhost:8080/",
          "height": 1000
        },
        "id": "UCervcFTB5ut",
        "outputId": "545b0fd5-5e73-48fd-9468-724d6388309b"
      },
      "outputs": [
        {
          "output_type": "display_data",
          "data": {
            "text/html": [
              "<img src=\"https://www.improvemagic.com/wp-content/uploads/2020/11/ka.png\"/>"
            ],
            "text/plain": [
              "<IPython.core.display.Image object>"
            ]
          },
          "metadata": {}
        },
        {
          "output_type": "display_data",
          "data": {
            "text/html": [
              "<img src=\"https://www.improvemagic.com/wp-content/uploads/2020/11/k2.png\"/>"
            ],
            "text/plain": [
              "<IPython.core.display.Image object>"
            ]
          },
          "metadata": {}
        },
        {
          "output_type": "display_data",
          "data": {
            "text/html": [
              "<img src=\"https://www.improvemagic.com/wp-content/uploads/2020/11/k3.png\"/>"
            ],
            "text/plain": [
              "<IPython.core.display.Image object>"
            ]
          },
          "metadata": {}
        },
        {
          "output_type": "display_data",
          "data": {
            "text/html": [
              "<img src=\"https://www.improvemagic.com/wp-content/uploads/2020/11/k4.png\"/>"
            ],
            "text/plain": [
              "<IPython.core.display.Image object>"
            ]
          },
          "metadata": {}
        },
        {
          "output_type": "display_data",
          "data": {
            "text/html": [
              "<img src=\"https://www.improvemagic.com/wp-content/uploads/2020/11/k5.png\"/>"
            ],
            "text/plain": [
              "<IPython.core.display.Image object>"
            ]
          },
          "metadata": {}
        },
        {
          "output_type": "display_data",
          "data": {
            "text/html": [
              "<img src=\"https://www.improvemagic.com/wp-content/uploads/2020/11/k6.png\"/>"
            ],
            "text/plain": [
              "<IPython.core.display.Image object>"
            ]
          },
          "metadata": {}
        },
        {
          "output_type": "display_data",
          "data": {
            "text/html": [
              "<img src=\"https://www.improvemagic.com/wp-content/uploads/2020/11/k7.png\"/>"
            ],
            "text/plain": [
              "<IPython.core.display.Image object>"
            ]
          },
          "metadata": {}
        },
        {
          "output_type": "display_data",
          "data": {
            "text/html": [
              "<img src=\"https://www.improvemagic.com/wp-content/uploads/2020/11/k8.png\"/>"
            ],
            "text/plain": [
              "<IPython.core.display.Image object>"
            ]
          },
          "metadata": {}
        },
        {
          "output_type": "display_data",
          "data": {
            "text/html": [
              "<img src=\"https://www.improvemagic.com/wp-content/uploads/2020/11/k9.png\"/>"
            ],
            "text/plain": [
              "<IPython.core.display.Image object>"
            ]
          },
          "metadata": {}
        },
        {
          "output_type": "display_data",
          "data": {
            "text/html": [
              "<img src=\"https://www.improvemagic.com/wp-content/uploads/2020/11/k10.png\"/>"
            ],
            "text/plain": [
              "<IPython.core.display.Image object>"
            ]
          },
          "metadata": {}
        },
        {
          "output_type": "display_data",
          "data": {
            "text/html": [
              "<img src=\"https://www.improvemagic.com/wp-content/uploads/2020/11/kj.png\"/>"
            ],
            "text/plain": [
              "<IPython.core.display.Image object>"
            ]
          },
          "metadata": {}
        },
        {
          "output_type": "display_data",
          "data": {
            "text/html": [
              "<img src=\"https://www.improvemagic.com/wp-content/uploads/2020/11/kq.png\"/>"
            ],
            "text/plain": [
              "<IPython.core.display.Image object>"
            ]
          },
          "metadata": {}
        },
        {
          "output_type": "display_data",
          "data": {
            "text/html": [
              "<img src=\"https://www.improvemagic.com/wp-content/uploads/2020/11/kk.png\"/>"
            ],
            "text/plain": [
              "<IPython.core.display.Image object>"
            ]
          },
          "metadata": {}
        },
        {
          "output_type": "display_data",
          "data": {
            "text/html": [
              "<img src=\"https://www.improvemagic.com/wp-content/uploads/2020/11/pa.png\"/>"
            ],
            "text/plain": [
              "<IPython.core.display.Image object>"
            ]
          },
          "metadata": {}
        },
        {
          "output_type": "display_data",
          "data": {
            "text/html": [
              "<img src=\"https://www.improvemagic.com/wp-content/uploads/2020/11/p2.png\"/>"
            ],
            "text/plain": [
              "<IPython.core.display.Image object>"
            ]
          },
          "metadata": {}
        },
        {
          "output_type": "display_data",
          "data": {
            "text/html": [
              "<img src=\"https://www.improvemagic.com/wp-content/uploads/2020/11/p3.png\"/>"
            ],
            "text/plain": [
              "<IPython.core.display.Image object>"
            ]
          },
          "metadata": {}
        },
        {
          "output_type": "display_data",
          "data": {
            "text/html": [
              "<img src=\"https://www.improvemagic.com/wp-content/uploads/2020/11/p4.png\"/>"
            ],
            "text/plain": [
              "<IPython.core.display.Image object>"
            ]
          },
          "metadata": {}
        },
        {
          "output_type": "display_data",
          "data": {
            "text/html": [
              "<img src=\"https://www.improvemagic.com/wp-content/uploads/2020/11/p5.png\"/>"
            ],
            "text/plain": [
              "<IPython.core.display.Image object>"
            ]
          },
          "metadata": {}
        },
        {
          "output_type": "display_data",
          "data": {
            "text/html": [
              "<img src=\"https://www.improvemagic.com/wp-content/uploads/2020/11/p6.png\"/>"
            ],
            "text/plain": [
              "<IPython.core.display.Image object>"
            ]
          },
          "metadata": {}
        },
        {
          "output_type": "display_data",
          "data": {
            "text/html": [
              "<img src=\"https://www.improvemagic.com/wp-content/uploads/2020/11/p7.png\"/>"
            ],
            "text/plain": [
              "<IPython.core.display.Image object>"
            ]
          },
          "metadata": {}
        },
        {
          "output_type": "display_data",
          "data": {
            "text/html": [
              "<img src=\"https://www.improvemagic.com/wp-content/uploads/2020/11/p8.png\"/>"
            ],
            "text/plain": [
              "<IPython.core.display.Image object>"
            ]
          },
          "metadata": {}
        },
        {
          "output_type": "display_data",
          "data": {
            "text/html": [
              "<img src=\"https://www.improvemagic.com/wp-content/uploads/2020/11/p9.png\"/>"
            ],
            "text/plain": [
              "<IPython.core.display.Image object>"
            ]
          },
          "metadata": {}
        },
        {
          "output_type": "display_data",
          "data": {
            "text/html": [
              "<img src=\"https://www.improvemagic.com/wp-content/uploads/2020/11/p10.png\"/>"
            ],
            "text/plain": [
              "<IPython.core.display.Image object>"
            ]
          },
          "metadata": {}
        },
        {
          "output_type": "display_data",
          "data": {
            "text/html": [
              "<img src=\"https://www.improvemagic.com/wp-content/uploads/2020/11/pj.png\"/>"
            ],
            "text/plain": [
              "<IPython.core.display.Image object>"
            ]
          },
          "metadata": {}
        },
        {
          "output_type": "display_data",
          "data": {
            "text/html": [
              "<img src=\"https://www.improvemagic.com/wp-content/uploads/2020/11/pq.png\"/>"
            ],
            "text/plain": [
              "<IPython.core.display.Image object>"
            ]
          },
          "metadata": {}
        },
        {
          "output_type": "display_data",
          "data": {
            "text/html": [
              "<img src=\"https://www.improvemagic.com/wp-content/uploads/2020/11/pk.png\"/>"
            ],
            "text/plain": [
              "<IPython.core.display.Image object>"
            ]
          },
          "metadata": {}
        },
        {
          "output_type": "display_data",
          "data": {
            "text/html": [
              "<img src=\"https://www.improvemagic.com/wp-content/uploads/2020/11/sa.png\"/>"
            ],
            "text/plain": [
              "<IPython.core.display.Image object>"
            ]
          },
          "metadata": {}
        },
        {
          "output_type": "display_data",
          "data": {
            "text/html": [
              "<img src=\"https://www.improvemagic.com/wp-content/uploads/2020/11/s2.png\"/>"
            ],
            "text/plain": [
              "<IPython.core.display.Image object>"
            ]
          },
          "metadata": {}
        },
        {
          "output_type": "display_data",
          "data": {
            "text/html": [
              "<img src=\"https://www.improvemagic.com/wp-content/uploads/2020/11/s3.png\"/>"
            ],
            "text/plain": [
              "<IPython.core.display.Image object>"
            ]
          },
          "metadata": {}
        },
        {
          "output_type": "display_data",
          "data": {
            "text/html": [
              "<img src=\"https://www.improvemagic.com/wp-content/uploads/2020/11/s4.png\"/>"
            ],
            "text/plain": [
              "<IPython.core.display.Image object>"
            ]
          },
          "metadata": {}
        },
        {
          "output_type": "display_data",
          "data": {
            "text/html": [
              "<img src=\"https://www.improvemagic.com/wp-content/uploads/2020/11/s5.png\"/>"
            ],
            "text/plain": [
              "<IPython.core.display.Image object>"
            ]
          },
          "metadata": {}
        },
        {
          "output_type": "display_data",
          "data": {
            "text/html": [
              "<img src=\"https://www.improvemagic.com/wp-content/uploads/2020/11/s6.png\"/>"
            ],
            "text/plain": [
              "<IPython.core.display.Image object>"
            ]
          },
          "metadata": {}
        },
        {
          "output_type": "display_data",
          "data": {
            "text/html": [
              "<img src=\"https://www.improvemagic.com/wp-content/uploads/2020/11/s7.png\"/>"
            ],
            "text/plain": [
              "<IPython.core.display.Image object>"
            ]
          },
          "metadata": {}
        },
        {
          "output_type": "display_data",
          "data": {
            "text/html": [
              "<img src=\"https://www.improvemagic.com/wp-content/uploads/2020/11/s8.png\"/>"
            ],
            "text/plain": [
              "<IPython.core.display.Image object>"
            ]
          },
          "metadata": {}
        },
        {
          "output_type": "display_data",
          "data": {
            "text/html": [
              "<img src=\"https://www.improvemagic.com/wp-content/uploads/2020/11/s9.png\"/>"
            ],
            "text/plain": [
              "<IPython.core.display.Image object>"
            ]
          },
          "metadata": {}
        },
        {
          "output_type": "display_data",
          "data": {
            "text/html": [
              "<img src=\"https://www.improvemagic.com/wp-content/uploads/2020/11/s10.png\"/>"
            ],
            "text/plain": [
              "<IPython.core.display.Image object>"
            ]
          },
          "metadata": {}
        },
        {
          "output_type": "display_data",
          "data": {
            "text/html": [
              "<img src=\"https://www.improvemagic.com/wp-content/uploads/2020/11/sj.png\"/>"
            ],
            "text/plain": [
              "<IPython.core.display.Image object>"
            ]
          },
          "metadata": {}
        },
        {
          "output_type": "display_data",
          "data": {
            "text/html": [
              "<img src=\"https://www.improvemagic.com/wp-content/uploads/2020/11/sq.png\"/>"
            ],
            "text/plain": [
              "<IPython.core.display.Image object>"
            ]
          },
          "metadata": {}
        },
        {
          "output_type": "display_data",
          "data": {
            "text/html": [
              "<img src=\"https://www.improvemagic.com/wp-content/uploads/2020/11/sk.png\"/>"
            ],
            "text/plain": [
              "<IPython.core.display.Image object>"
            ]
          },
          "metadata": {}
        },
        {
          "output_type": "display_data",
          "data": {
            "text/html": [
              "<img src=\"https://www.improvemagic.com/wp-content/uploads/2020/11/la.png\"/>"
            ],
            "text/plain": [
              "<IPython.core.display.Image object>"
            ]
          },
          "metadata": {}
        },
        {
          "output_type": "display_data",
          "data": {
            "text/html": [
              "<img src=\"https://www.improvemagic.com/wp-content/uploads/2020/11/l2.png\"/>"
            ],
            "text/plain": [
              "<IPython.core.display.Image object>"
            ]
          },
          "metadata": {}
        },
        {
          "output_type": "display_data",
          "data": {
            "text/html": [
              "<img src=\"https://www.improvemagic.com/wp-content/uploads/2020/11/l3.png\"/>"
            ],
            "text/plain": [
              "<IPython.core.display.Image object>"
            ]
          },
          "metadata": {}
        },
        {
          "output_type": "display_data",
          "data": {
            "text/html": [
              "<img src=\"https://www.improvemagic.com/wp-content/uploads/2020/11/l4.png\"/>"
            ],
            "text/plain": [
              "<IPython.core.display.Image object>"
            ]
          },
          "metadata": {}
        },
        {
          "output_type": "display_data",
          "data": {
            "text/html": [
              "<img src=\"https://www.improvemagic.com/wp-content/uploads/2020/11/l5.png\"/>"
            ],
            "text/plain": [
              "<IPython.core.display.Image object>"
            ]
          },
          "metadata": {}
        },
        {
          "output_type": "display_data",
          "data": {
            "text/html": [
              "<img src=\"https://www.improvemagic.com/wp-content/uploads/2020/11/l6.png\"/>"
            ],
            "text/plain": [
              "<IPython.core.display.Image object>"
            ]
          },
          "metadata": {}
        },
        {
          "output_type": "display_data",
          "data": {
            "text/html": [
              "<img src=\"https://www.improvemagic.com/wp-content/uploads/2020/11/l7.png\"/>"
            ],
            "text/plain": [
              "<IPython.core.display.Image object>"
            ]
          },
          "metadata": {}
        },
        {
          "output_type": "display_data",
          "data": {
            "text/html": [
              "<img src=\"https://www.improvemagic.com/wp-content/uploads/2020/11/l8.png\"/>"
            ],
            "text/plain": [
              "<IPython.core.display.Image object>"
            ]
          },
          "metadata": {}
        },
        {
          "output_type": "display_data",
          "data": {
            "text/html": [
              "<img src=\"https://www.improvemagic.com/wp-content/uploads/2020/11/l9.png\"/>"
            ],
            "text/plain": [
              "<IPython.core.display.Image object>"
            ]
          },
          "metadata": {}
        },
        {
          "output_type": "display_data",
          "data": {
            "text/html": [
              "<img src=\"https://www.improvemagic.com/wp-content/uploads/2020/11/l10.png\"/>"
            ],
            "text/plain": [
              "<IPython.core.display.Image object>"
            ]
          },
          "metadata": {}
        },
        {
          "output_type": "display_data",
          "data": {
            "text/html": [
              "<img src=\"https://www.improvemagic.com/wp-content/uploads/2020/11/lj.png\"/>"
            ],
            "text/plain": [
              "<IPython.core.display.Image object>"
            ]
          },
          "metadata": {}
        },
        {
          "output_type": "display_data",
          "data": {
            "text/html": [
              "<img src=\"https://www.improvemagic.com/wp-content/uploads/2020/11/lq.png\"/>"
            ],
            "text/plain": [
              "<IPython.core.display.Image object>"
            ]
          },
          "metadata": {}
        },
        {
          "output_type": "display_data",
          "data": {
            "text/html": [
              "<img src=\"https://www.improvemagic.com/wp-content/uploads/2020/11/lk.png\"/>"
            ],
            "text/plain": [
              "<IPython.core.display.Image object>"
            ]
          },
          "metadata": {}
        }
      ],
      "source": [
        "for i in range(52): #range of 52 cards\n",
        "    img = card_url_head + card_image(i) + card_url_tail #print the deck of cards (in order)\n",
        "    show_img(img)"
      ]
    },
    {
      "cell_type": "code",
      "execution_count": null,
      "metadata": {
        "id": "XiZJmBheIPfo"
      },
      "outputs": [],
      "source": [
        "import random\n",
        "\n",
        "def initialize_deck():\n",
        "    #Create and shuffle a deck of 52 cards represented by numbers 0-51.\n",
        "    deck = list(range(52))\n",
        "    random.shuffle(deck)\n",
        "    return deck\n",
        "\n",
        "def draw_cards(deck, top_index, num=5): #simulating draw of cards from the deck\n",
        "    drawn_cards = deck[top_index:top_index + num]\n",
        "    return drawn_cards, top_index + num\n",
        "\n",
        "# Initialize and shuffle the deck\n",
        "deck = initialize_deck()\n",
        "top_index = 0  # Start at the beginning of the deck"
      ]
    },
    {
      "cell_type": "code",
      "execution_count": null,
      "metadata": {
        "colab": {
          "base_uri": "https://localhost:8080/"
        },
        "id": "Xa8Sgnm_Z20Z",
        "outputId": "8f8e8723-ff4e-4456-a51e-d3e2ac162303"
      },
      "outputs": [
        {
          "output_type": "execute_result",
          "data": {
            "text/plain": [
              "[25,\n",
              " 42,\n",
              " 12,\n",
              " 34,\n",
              " 8,\n",
              " 37,\n",
              " 14,\n",
              " 16,\n",
              " 36,\n",
              " 40,\n",
              " 39,\n",
              " 1,\n",
              " 46,\n",
              " 5,\n",
              " 29,\n",
              " 51,\n",
              " 49,\n",
              " 48,\n",
              " 0,\n",
              " 23,\n",
              " 44,\n",
              " 10,\n",
              " 7,\n",
              " 17,\n",
              " 9,\n",
              " 15,\n",
              " 30,\n",
              " 6,\n",
              " 11,\n",
              " 38,\n",
              " 26,\n",
              " 47,\n",
              " 19,\n",
              " 2,\n",
              " 41,\n",
              " 24,\n",
              " 45,\n",
              " 32,\n",
              " 50,\n",
              " 4,\n",
              " 31,\n",
              " 3,\n",
              " 35,\n",
              " 22,\n",
              " 28,\n",
              " 20,\n",
              " 43,\n",
              " 21,\n",
              " 13,\n",
              " 27,\n",
              " 18,\n",
              " 33]"
            ]
          },
          "metadata": {},
          "execution_count": 80
        }
      ],
      "source": [
        "deck"
      ]
    },
    {
      "cell_type": "code",
      "execution_count": null,
      "metadata": {
        "id": "-o6dg7HgZyY-"
      },
      "outputs": [],
      "source": [
        "# Draw 5 cards for a poker hand\n",
        "hand, top_index = draw_cards(deck, top_index, 5) #draw five cards from deck"
      ]
    },
    {
      "cell_type": "code",
      "execution_count": null,
      "metadata": {
        "colab": {
          "base_uri": "https://localhost:8080/"
        },
        "id": "yD7PXNOEZz6y",
        "outputId": "13253d6c-100e-44ff-fc4f-3577fe0e18c0"
      },
      "outputs": [
        {
          "output_type": "execute_result",
          "data": {
            "text/plain": [
              "[25, 42, 12, 34, 8]"
            ]
          },
          "metadata": {},
          "execution_count": 82
        }
      ],
      "source": [
        "hand #print cards in hand"
      ]
    },
    {
      "cell_type": "code",
      "execution_count": null,
      "metadata": {
        "id": "p2k3mE9VZvlL"
      },
      "outputs": [],
      "source": [
        "hand, top_index = draw_cards(deck, top_index, 5) #draw five cards from deck"
      ]
    },
    {
      "cell_type": "code",
      "execution_count": null,
      "metadata": {
        "colab": {
          "base_uri": "https://localhost:8080/"
        },
        "id": "CON4qPmYZ1Cy",
        "outputId": "8465182d-4df3-4142-e7eb-6a915f8a982d"
      },
      "outputs": [
        {
          "output_type": "execute_result",
          "data": {
            "text/plain": [
              "[37, 14, 16, 36, 40]"
            ]
          },
          "metadata": {},
          "execution_count": 84
        }
      ],
      "source": [
        "hand #print cards in hand"
      ]
    },
    {
      "cell_type": "code",
      "execution_count": null,
      "metadata": {
        "colab": {
          "base_uri": "https://localhost:8080/",
          "height": 1000
        },
        "id": "RJC98zl-YDi1",
        "outputId": "21805628-cfa3-43a9-a498-24c716b9a9d6"
      },
      "outputs": [
        {
          "output_type": "display_data",
          "data": {
            "text/html": [
              "<img src=\"https://www.improvemagic.com/wp-content/uploads/2020/11/sq.png\"/>"
            ],
            "text/plain": [
              "<IPython.core.display.Image object>"
            ]
          },
          "metadata": {}
        },
        {
          "output_type": "display_data",
          "data": {
            "text/html": [
              "<img src=\"https://www.improvemagic.com/wp-content/uploads/2020/11/p2.png\"/>"
            ],
            "text/plain": [
              "<IPython.core.display.Image object>"
            ]
          },
          "metadata": {}
        },
        {
          "output_type": "display_data",
          "data": {
            "text/html": [
              "<img src=\"https://www.improvemagic.com/wp-content/uploads/2020/11/p4.png\"/>"
            ],
            "text/plain": [
              "<IPython.core.display.Image object>"
            ]
          },
          "metadata": {}
        },
        {
          "output_type": "display_data",
          "data": {
            "text/html": [
              "<img src=\"https://www.improvemagic.com/wp-content/uploads/2020/11/sj.png\"/>"
            ],
            "text/plain": [
              "<IPython.core.display.Image object>"
            ]
          },
          "metadata": {}
        },
        {
          "output_type": "display_data",
          "data": {
            "text/html": [
              "<img src=\"https://www.improvemagic.com/wp-content/uploads/2020/11/l2.png\"/>"
            ],
            "text/plain": [
              "<IPython.core.display.Image object>"
            ]
          },
          "metadata": {}
        }
      ],
      "source": [
        "# Display the hand\n",
        "for card_number in hand:\n",
        "    img_url = card_url_head + card_image(card_number) + card_url_tail #show cards in a column\n",
        "    show_img(img_url) #display the five cards in hand"
      ]
    },
    {
      "cell_type": "code",
      "execution_count": null,
      "metadata": {
        "colab": {
          "base_uri": "https://localhost:8080/",
          "height": 671
        },
        "id": "JMciwLZZYfAA",
        "outputId": "412b9301-de25-4c0b-d182-f64519f9048a"
      },
      "outputs": [
        {
          "output_type": "display_data",
          "data": {
            "text/plain": [
              "<IPython.core.display.HTML object>"
            ],
            "text/html": [
              "<img src=\"https://www.improvemagic.com/wp-content/uploads/2020/11/sq.png\" style=\"display:inline-block; margin:5px;\" /><img src=\"https://www.improvemagic.com/wp-content/uploads/2020/11/p2.png\" style=\"display:inline-block; margin:5px;\" /><img src=\"https://www.improvemagic.com/wp-content/uploads/2020/11/p4.png\" style=\"display:inline-block; margin:5px;\" /><img src=\"https://www.improvemagic.com/wp-content/uploads/2020/11/sj.png\" style=\"display:inline-block; margin:5px;\" /><img src=\"https://www.improvemagic.com/wp-content/uploads/2020/11/l2.png\" style=\"display:inline-block; margin:5px;\" />"
            ]
          },
          "metadata": {}
        }
      ],
      "source": [
        "from IPython.core.display import display, HTML\n",
        "def show_hand(hand):\n",
        "    #show cards in a row (since we drew five cards there is going to be 2 rows)\n",
        "    images_html = ''.join([f'<img src=\"{card_url_head + card_image(card_number) + card_url_tail}\" style=\"display:inline-block; margin:5px;\" />' for card_number in hand])\n",
        "    display(HTML(images_html))\n",
        "\n",
        "show_hand(hand) #display the five cards\n"
      ]
    },
    {
      "cell_type": "code",
      "execution_count": null,
      "metadata": {
        "id": "4pSVdfBDaESe"
      },
      "outputs": [],
      "source": []
    },
    {
      "cell_type": "code",
      "execution_count": null,
      "metadata": {
        "id": "CIyFI0YraEZ2"
      },
      "outputs": [],
      "source": []
    },
    {
      "cell_type": "markdown",
      "metadata": {
        "id": "P8xGcQSuauDT"
      },
      "source": [
        "# Rank Hand"
      ]
    },
    {
      "cell_type": "code",
      "execution_count": null,
      "metadata": {
        "id": "5X7L14IXXwB1"
      },
      "outputs": [],
      "source": [
        "def evaluate_hand(hand):\n",
        "    #to map card ranks to their values\n",
        "    rank_values = {'2': 2, '3': 3, '4': 4, '5': 5, '6': 6, '7': 7, '8': 8, '9': 9, '10': 10, 'j': 11, 'q': 12, 'k': 13, 'a': 14}\n",
        "    #represent the suits as characters\n",
        "    suits = ['k', 'p', 's', 'l']  # clubs, spades, hearts, diamonds\n",
        "\n",
        "    # Convert the hand to a list of (rank, suit) tuples\n",
        "    converted_hand = [(rank_values[card[card_number % 13]], suits[card_number // 13]) for card_number in hand]\n",
        "    converted_hand.sort()\n",
        "\n",
        "    #counting the occurrences of each rank and suit in the hand\n",
        "    rank_counts = {rank: 0 for rank in rank_values.values()}\n",
        "    suit_counts = {suit: 0 for suit in suits}\n",
        "    for rank, suit in converted_hand:\n",
        "        rank_counts[rank] += 1\n",
        "        suit_counts[suit] += 1\n",
        "\n",
        "    # Check for flush\n",
        "    is_flush = max(suit_counts.values()) == 5\n",
        "\n",
        "    # Check for straight and royal flush\n",
        "    rank_sequence = [rank for rank, _ in converted_hand]\n",
        "    is_straight = all(rank_sequence[i] - rank_sequence[i - 1] == 1 for i in range(1, 5))\n",
        "    is_royal = is_straight and rank_sequence[0] == 10\n",
        "\n",
        "    # Check for other hand types\n",
        "    pairs = sum(1 for count in rank_counts.values() if count == 2)\n",
        "    three_of_a_kind = 3 in rank_counts.values()\n",
        "    four_of_a_kind = 4 in rank_counts.values()\n",
        "\n",
        "    # determining the best hand type in order of rank\n",
        "    if is_royal and is_flush:\n",
        "        return \"Royal Flush\"\n",
        "    elif is_straight and is_flush:\n",
        "        return \"Straight Flush\"\n",
        "    elif four_of_a_kind:\n",
        "        return \"Four of a Kind\"\n",
        "    elif three_of_a_kind and pairs == 1:\n",
        "        return \"Full House\"\n",
        "    elif is_flush:\n",
        "        return \"Flush\"\n",
        "    elif is_straight:\n",
        "        return \"Straight\"\n",
        "    elif three_of_a_kind:\n",
        "        return \"Three of a Kind\"\n",
        "    elif pairs == 2:\n",
        "        return \"Two Pair\"\n",
        "    elif pairs == 1:\n",
        "        return \"One Pair\"\n",
        "    else:\n",
        "        return \"High Card\" #defult hand type if none of the above conditions are met"
      ]
    },
    {
      "cell_type": "code",
      "execution_count": null,
      "metadata": {
        "id": "88Ln53YKaPFs"
      },
      "outputs": [],
      "source": []
    },
    {
      "cell_type": "markdown",
      "metadata": {
        "id": "hCbvM3i_cEO0"
      },
      "source": [
        "Shuffle cards"
      ]
    },
    {
      "cell_type": "code",
      "execution_count": null,
      "metadata": {
        "colab": {
          "base_uri": "https://localhost:8080/",
          "height": 688
        },
        "id": "9n4BkXCgaPIN",
        "outputId": "419f601c-34b4-4a52-eb5d-fbc7b69bc39f"
      },
      "outputs": [
        {
          "output_type": "stream",
          "name": "stdout",
          "text": [
            "One Pair\n"
          ]
        },
        {
          "output_type": "display_data",
          "data": {
            "text/plain": [
              "<IPython.core.display.HTML object>"
            ],
            "text/html": [
              "<img src=\"https://www.improvemagic.com/wp-content/uploads/2020/11/l4.png\" style=\"display:inline-block; margin:5px;\" /><img src=\"https://www.improvemagic.com/wp-content/uploads/2020/11/s7.png\" style=\"display:inline-block; margin:5px;\" /><img src=\"https://www.improvemagic.com/wp-content/uploads/2020/11/pj.png\" style=\"display:inline-block; margin:5px;\" /><img src=\"https://www.improvemagic.com/wp-content/uploads/2020/11/k4.png\" style=\"display:inline-block; margin:5px;\" /><img src=\"https://www.improvemagic.com/wp-content/uploads/2020/11/l8.png\" style=\"display:inline-block; margin:5px;\" />"
            ]
          },
          "metadata": {}
        }
      ],
      "source": [
        "# Initialize and shuffle the deck\n",
        "deck = initialize_deck()\n",
        "top_index = 0  # Start at the beginning of the deck\n",
        "\n",
        "hand, top_index = draw_cards(deck, top_index, 5) #five cards\n",
        "\n",
        "\n",
        "print(evaluate_hand(hand))\n",
        "show_hand(hand)"
      ]
    },
    {
      "cell_type": "code",
      "execution_count": null,
      "metadata": {
        "id": "Gvkbf51BYrQN"
      },
      "outputs": [],
      "source": []
    },
    {
      "cell_type": "code",
      "execution_count": null,
      "metadata": {
        "colab": {
          "base_uri": "https://localhost:8080/",
          "height": 1000
        },
        "id": "3Nio0wmHajqT",
        "outputId": "977fc7e5-efba-4cd8-f415-f8d941f20b97"
      },
      "outputs": [
        {
          "output_type": "stream",
          "name": "stdout",
          "text": [
            "High Card\n"
          ]
        },
        {
          "output_type": "display_data",
          "data": {
            "text/plain": [
              "<IPython.core.display.HTML object>"
            ],
            "text/html": [
              "<img src=\"https://www.improvemagic.com/wp-content/uploads/2020/11/s8.png\" style=\"display:inline-block; margin:5px;\" /><img src=\"https://www.improvemagic.com/wp-content/uploads/2020/11/sq.png\" style=\"display:inline-block; margin:5px;\" /><img src=\"https://www.improvemagic.com/wp-content/uploads/2020/11/pj.png\" style=\"display:inline-block; margin:5px;\" /><img src=\"https://www.improvemagic.com/wp-content/uploads/2020/11/k4.png\" style=\"display:inline-block; margin:5px;\" /><img src=\"https://www.improvemagic.com/wp-content/uploads/2020/11/l6.png\" style=\"display:inline-block; margin:5px;\" />"
            ]
          },
          "metadata": {}
        },
        {
          "output_type": "stream",
          "name": "stdout",
          "text": [
            "High Card\n"
          ]
        },
        {
          "output_type": "display_data",
          "data": {
            "text/plain": [
              "<IPython.core.display.HTML object>"
            ],
            "text/html": [
              "<img src=\"https://www.improvemagic.com/wp-content/uploads/2020/11/la.png\" style=\"display:inline-block; margin:5px;\" /><img src=\"https://www.improvemagic.com/wp-content/uploads/2020/11/kq.png\" style=\"display:inline-block; margin:5px;\" /><img src=\"https://www.improvemagic.com/wp-content/uploads/2020/11/p9.png\" style=\"display:inline-block; margin:5px;\" /><img src=\"https://www.improvemagic.com/wp-content/uploads/2020/11/l10.png\" style=\"display:inline-block; margin:5px;\" /><img src=\"https://www.improvemagic.com/wp-content/uploads/2020/11/s6.png\" style=\"display:inline-block; margin:5px;\" />"
            ]
          },
          "metadata": {}
        },
        {
          "output_type": "stream",
          "name": "stdout",
          "text": [
            "High Card\n"
          ]
        },
        {
          "output_type": "display_data",
          "data": {
            "text/plain": [
              "<IPython.core.display.HTML object>"
            ],
            "text/html": [
              "<img src=\"https://www.improvemagic.com/wp-content/uploads/2020/11/s5.png\" style=\"display:inline-block; margin:5px;\" /><img src=\"https://www.improvemagic.com/wp-content/uploads/2020/11/k10.png\" style=\"display:inline-block; margin:5px;\" /><img src=\"https://www.improvemagic.com/wp-content/uploads/2020/11/k3.png\" style=\"display:inline-block; margin:5px;\" /><img src=\"https://www.improvemagic.com/wp-content/uploads/2020/11/p6.png\" style=\"display:inline-block; margin:5px;\" /><img src=\"https://www.improvemagic.com/wp-content/uploads/2020/11/s4.png\" style=\"display:inline-block; margin:5px;\" />"
            ]
          },
          "metadata": {}
        },
        {
          "output_type": "stream",
          "name": "stdout",
          "text": [
            "High Card\n"
          ]
        },
        {
          "output_type": "display_data",
          "data": {
            "text/plain": [
              "<IPython.core.display.HTML object>"
            ],
            "text/html": [
              "<img src=\"https://www.improvemagic.com/wp-content/uploads/2020/11/pa.png\" style=\"display:inline-block; margin:5px;\" /><img src=\"https://www.improvemagic.com/wp-content/uploads/2020/11/s9.png\" style=\"display:inline-block; margin:5px;\" /><img src=\"https://www.improvemagic.com/wp-content/uploads/2020/11/l7.png\" style=\"display:inline-block; margin:5px;\" /><img src=\"https://www.improvemagic.com/wp-content/uploads/2020/11/p5.png\" style=\"display:inline-block; margin:5px;\" /><img src=\"https://www.improvemagic.com/wp-content/uploads/2020/11/p3.png\" style=\"display:inline-block; margin:5px;\" />"
            ]
          },
          "metadata": {}
        },
        {
          "output_type": "stream",
          "name": "stdout",
          "text": [
            "High Card\n"
          ]
        },
        {
          "output_type": "display_data",
          "data": {
            "text/plain": [
              "<IPython.core.display.HTML object>"
            ],
            "text/html": [
              "<img src=\"https://www.improvemagic.com/wp-content/uploads/2020/11/p6.png\" style=\"display:inline-block; margin:5px;\" /><img src=\"https://www.improvemagic.com/wp-content/uploads/2020/11/kq.png\" style=\"display:inline-block; margin:5px;\" /><img src=\"https://www.improvemagic.com/wp-content/uploads/2020/11/s9.png\" style=\"display:inline-block; margin:5px;\" /><img src=\"https://www.improvemagic.com/wp-content/uploads/2020/11/k7.png\" style=\"display:inline-block; margin:5px;\" /><img src=\"https://www.improvemagic.com/wp-content/uploads/2020/11/pk.png\" style=\"display:inline-block; margin:5px;\" />"
            ]
          },
          "metadata": {}
        },
        {
          "output_type": "stream",
          "name": "stdout",
          "text": [
            "High Card\n"
          ]
        },
        {
          "output_type": "display_data",
          "data": {
            "text/plain": [
              "<IPython.core.display.HTML object>"
            ],
            "text/html": [
              "<img src=\"https://www.improvemagic.com/wp-content/uploads/2020/11/l3.png\" style=\"display:inline-block; margin:5px;\" /><img src=\"https://www.improvemagic.com/wp-content/uploads/2020/11/l10.png\" style=\"display:inline-block; margin:5px;\" /><img src=\"https://www.improvemagic.com/wp-content/uploads/2020/11/ka.png\" style=\"display:inline-block; margin:5px;\" /><img src=\"https://www.improvemagic.com/wp-content/uploads/2020/11/l9.png\" style=\"display:inline-block; margin:5px;\" /><img src=\"https://www.improvemagic.com/wp-content/uploads/2020/11/s5.png\" style=\"display:inline-block; margin:5px;\" />"
            ]
          },
          "metadata": {}
        },
        {
          "output_type": "stream",
          "name": "stdout",
          "text": [
            "High Card\n"
          ]
        },
        {
          "output_type": "display_data",
          "data": {
            "text/plain": [
              "<IPython.core.display.HTML object>"
            ],
            "text/html": [
              "<img src=\"https://www.improvemagic.com/wp-content/uploads/2020/11/l9.png\" style=\"display:inline-block; margin:5px;\" /><img src=\"https://www.improvemagic.com/wp-content/uploads/2020/11/k6.png\" style=\"display:inline-block; margin:5px;\" /><img src=\"https://www.improvemagic.com/wp-content/uploads/2020/11/s8.png\" style=\"display:inline-block; margin:5px;\" /><img src=\"https://www.improvemagic.com/wp-content/uploads/2020/11/sj.png\" style=\"display:inline-block; margin:5px;\" /><img src=\"https://www.improvemagic.com/wp-content/uploads/2020/11/lk.png\" style=\"display:inline-block; margin:5px;\" />"
            ]
          },
          "metadata": {}
        },
        {
          "output_type": "stream",
          "name": "stdout",
          "text": [
            "High Card\n"
          ]
        },
        {
          "output_type": "display_data",
          "data": {
            "text/plain": [
              "<IPython.core.display.HTML object>"
            ],
            "text/html": [
              "<img src=\"https://www.improvemagic.com/wp-content/uploads/2020/11/pq.png\" style=\"display:inline-block; margin:5px;\" /><img src=\"https://www.improvemagic.com/wp-content/uploads/2020/11/s9.png\" style=\"display:inline-block; margin:5px;\" /><img src=\"https://www.improvemagic.com/wp-content/uploads/2020/11/sk.png\" style=\"display:inline-block; margin:5px;\" /><img src=\"https://www.improvemagic.com/wp-content/uploads/2020/11/kj.png\" style=\"display:inline-block; margin:5px;\" /><img src=\"https://www.improvemagic.com/wp-content/uploads/2020/11/pa.png\" style=\"display:inline-block; margin:5px;\" />"
            ]
          },
          "metadata": {}
        },
        {
          "output_type": "stream",
          "name": "stdout",
          "text": [
            "One Pair\n"
          ]
        },
        {
          "output_type": "display_data",
          "data": {
            "text/plain": [
              "<IPython.core.display.HTML object>"
            ],
            "text/html": [
              "<img src=\"https://www.improvemagic.com/wp-content/uploads/2020/11/l6.png\" style=\"display:inline-block; margin:5px;\" /><img src=\"https://www.improvemagic.com/wp-content/uploads/2020/11/k8.png\" style=\"display:inline-block; margin:5px;\" /><img src=\"https://www.improvemagic.com/wp-content/uploads/2020/11/p4.png\" style=\"display:inline-block; margin:5px;\" /><img src=\"https://www.improvemagic.com/wp-content/uploads/2020/11/s3.png\" style=\"display:inline-block; margin:5px;\" /><img src=\"https://www.improvemagic.com/wp-content/uploads/2020/11/s4.png\" style=\"display:inline-block; margin:5px;\" />"
            ]
          },
          "metadata": {}
        },
        {
          "output_type": "stream",
          "name": "stdout",
          "text": [
            "High Card\n"
          ]
        },
        {
          "output_type": "display_data",
          "data": {
            "text/plain": [
              "<IPython.core.display.HTML object>"
            ],
            "text/html": [
              "<img src=\"https://www.improvemagic.com/wp-content/uploads/2020/11/pk.png\" style=\"display:inline-block; margin:5px;\" /><img src=\"https://www.improvemagic.com/wp-content/uploads/2020/11/lj.png\" style=\"display:inline-block; margin:5px;\" /><img src=\"https://www.improvemagic.com/wp-content/uploads/2020/11/l7.png\" style=\"display:inline-block; margin:5px;\" /><img src=\"https://www.improvemagic.com/wp-content/uploads/2020/11/la.png\" style=\"display:inline-block; margin:5px;\" /><img src=\"https://www.improvemagic.com/wp-content/uploads/2020/11/k4.png\" style=\"display:inline-block; margin:5px;\" />"
            ]
          },
          "metadata": {}
        }
      ],
      "source": [
        "for i in range(10): #looping 10 times\n",
        "    # Initialize and shuffle the deck\n",
        "    deck = initialize_deck()\n",
        "    top_index = 0  # Start at the beginning of the deck\n",
        "\n",
        "    hand, top_index = draw_cards(deck, top_index, 5) #draw five cards each time\n",
        "\n",
        "\n",
        "    print(evaluate_hand(hand))\n",
        "    show_hand(hand)"
      ]
    },
    {
      "cell_type": "code",
      "execution_count": null,
      "metadata": {
        "id": "vJSv5gqMYwpD"
      },
      "outputs": [],
      "source": []
    },
    {
      "cell_type": "code",
      "execution_count": null,
      "metadata": {
        "colab": {
          "base_uri": "https://localhost:8080/",
          "height": 1000
        },
        "id": "4fjPFjdOYySY",
        "outputId": "93e89a85-2efb-4153-82f1-e2b6d5d7dbae"
      },
      "outputs": [
        {
          "name": "stdout",
          "output_type": "stream",
          "text": [
            "Winner!\n"
          ]
        },
        {
          "data": {
            "text/html": [
              "<img src=\"https://www.improvemagic.com/wp-content/uploads/2020/11/s10.png\" style=\"display:inline-block; margin:5px;\" /><img src=\"https://www.improvemagic.com/wp-content/uploads/2020/11/sj.png\" style=\"display:inline-block; margin:5px;\" /><img src=\"https://www.improvemagic.com/wp-content/uploads/2020/11/k6.png\" style=\"display:inline-block; margin:5px;\" /><img src=\"https://www.improvemagic.com/wp-content/uploads/2020/11/k10.png\" style=\"display:inline-block; margin:5px;\" /><img src=\"https://www.improvemagic.com/wp-content/uploads/2020/11/p6.png\" style=\"display:inline-block; margin:5px;\" />"
            ],
            "text/plain": [
              "<IPython.core.display.HTML object>"
            ]
          },
          "metadata": {},
          "output_type": "display_data"
        },
        {
          "name": "stdout",
          "output_type": "stream",
          "text": [
            "Winner!\n"
          ]
        },
        {
          "data": {
            "text/html": [
              "<img src=\"https://www.improvemagic.com/wp-content/uploads/2020/11/k7.png\" style=\"display:inline-block; margin:5px;\" /><img src=\"https://www.improvemagic.com/wp-content/uploads/2020/11/p6.png\" style=\"display:inline-block; margin:5px;\" /><img src=\"https://www.improvemagic.com/wp-content/uploads/2020/11/p7.png\" style=\"display:inline-block; margin:5px;\" /><img src=\"https://www.improvemagic.com/wp-content/uploads/2020/11/pj.png\" style=\"display:inline-block; margin:5px;\" /><img src=\"https://www.improvemagic.com/wp-content/uploads/2020/11/k6.png\" style=\"display:inline-block; margin:5px;\" />"
            ],
            "text/plain": [
              "<IPython.core.display.HTML object>"
            ]
          },
          "metadata": {},
          "output_type": "display_data"
        },
        {
          "name": "stdout",
          "output_type": "stream",
          "text": [
            "Winner!\n"
          ]
        },
        {
          "data": {
            "text/html": [
              "<img src=\"https://www.improvemagic.com/wp-content/uploads/2020/11/p7.png\" style=\"display:inline-block; margin:5px;\" /><img src=\"https://www.improvemagic.com/wp-content/uploads/2020/11/k2.png\" style=\"display:inline-block; margin:5px;\" /><img src=\"https://www.improvemagic.com/wp-content/uploads/2020/11/p2.png\" style=\"display:inline-block; margin:5px;\" /><img src=\"https://www.improvemagic.com/wp-content/uploads/2020/11/k7.png\" style=\"display:inline-block; margin:5px;\" /><img src=\"https://www.improvemagic.com/wp-content/uploads/2020/11/l5.png\" style=\"display:inline-block; margin:5px;\" />"
            ],
            "text/plain": [
              "<IPython.core.display.HTML object>"
            ]
          },
          "metadata": {},
          "output_type": "display_data"
        },
        {
          "name": "stdout",
          "output_type": "stream",
          "text": [
            "Winner!\n"
          ]
        },
        {
          "data": {
            "text/html": [
              "<img src=\"https://www.improvemagic.com/wp-content/uploads/2020/11/k9.png\" style=\"display:inline-block; margin:5px;\" /><img src=\"https://www.improvemagic.com/wp-content/uploads/2020/11/l7.png\" style=\"display:inline-block; margin:5px;\" /><img src=\"https://www.improvemagic.com/wp-content/uploads/2020/11/p10.png\" style=\"display:inline-block; margin:5px;\" /><img src=\"https://www.improvemagic.com/wp-content/uploads/2020/11/s10.png\" style=\"display:inline-block; margin:5px;\" /><img src=\"https://www.improvemagic.com/wp-content/uploads/2020/11/s7.png\" style=\"display:inline-block; margin:5px;\" />"
            ],
            "text/plain": [
              "<IPython.core.display.HTML object>"
            ]
          },
          "metadata": {},
          "output_type": "display_data"
        },
        {
          "name": "stdout",
          "output_type": "stream",
          "text": [
            "Winner!\n"
          ]
        },
        {
          "data": {
            "text/html": [
              "<img src=\"https://www.improvemagic.com/wp-content/uploads/2020/11/k2.png\" style=\"display:inline-block; margin:5px;\" /><img src=\"https://www.improvemagic.com/wp-content/uploads/2020/11/s2.png\" style=\"display:inline-block; margin:5px;\" /><img src=\"https://www.improvemagic.com/wp-content/uploads/2020/11/p10.png\" style=\"display:inline-block; margin:5px;\" /><img src=\"https://www.improvemagic.com/wp-content/uploads/2020/11/s5.png\" style=\"display:inline-block; margin:5px;\" /><img src=\"https://www.improvemagic.com/wp-content/uploads/2020/11/p5.png\" style=\"display:inline-block; margin:5px;\" />"
            ],
            "text/plain": [
              "<IPython.core.display.HTML object>"
            ]
          },
          "metadata": {},
          "output_type": "display_data"
        },
        {
          "name": "stdout",
          "output_type": "stream",
          "text": [
            "Winner!\n"
          ]
        },
        {
          "data": {
            "text/html": [
              "<img src=\"https://www.improvemagic.com/wp-content/uploads/2020/11/s8.png\" style=\"display:inline-block; margin:5px;\" /><img src=\"https://www.improvemagic.com/wp-content/uploads/2020/11/kk.png\" style=\"display:inline-block; margin:5px;\" /><img src=\"https://www.improvemagic.com/wp-content/uploads/2020/11/kj.png\" style=\"display:inline-block; margin:5px;\" /><img src=\"https://www.improvemagic.com/wp-content/uploads/2020/11/sk.png\" style=\"display:inline-block; margin:5px;\" /><img src=\"https://www.improvemagic.com/wp-content/uploads/2020/11/sj.png\" style=\"display:inline-block; margin:5px;\" />"
            ],
            "text/plain": [
              "<IPython.core.display.HTML object>"
            ]
          },
          "metadata": {},
          "output_type": "display_data"
        }
      ],
      "source": [
        "for i in range(100): #looping 100 times\n",
        "    # Initialize and shuffle the deck\n",
        "    deck = initialize_deck()\n",
        "    top_index = 0  # Start at the beginning of the deck\n",
        "\n",
        "    hand, top_index = draw_cards(deck, top_index, 5) #draw 5 cards each time\n",
        "\n",
        "    if evaluate_hand(hand) == \"Two Pair\":\n",
        "        print(\"Winner!\") #if it's \"Two Pair\" you win!\n",
        "        show_hand(hand)"
      ]
    },
    {
      "cell_type": "code",
      "execution_count": null,
      "metadata": {
        "id": "aZ-ii6TCbps5"
      },
      "outputs": [],
      "source": []
    },
    {
      "cell_type": "code",
      "execution_count": null,
      "metadata": {
        "colab": {
          "base_uri": "https://localhost:8080/",
          "height": 1000
        },
        "id": "ELMqN8vmbp5h",
        "outputId": "4d42d9a3-9ba9-45f4-a449-ab0d0835969e"
      },
      "outputs": [
        {
          "name": "stdout",
          "output_type": "stream",
          "text": [
            "Winner!\n"
          ]
        },
        {
          "data": {
            "text/html": [
              "<img src=\"https://www.improvemagic.com/wp-content/uploads/2020/11/k10.png\" style=\"display:inline-block; margin:5px;\" /><img src=\"https://www.improvemagic.com/wp-content/uploads/2020/11/k3.png\" style=\"display:inline-block; margin:5px;\" /><img src=\"https://www.improvemagic.com/wp-content/uploads/2020/11/k6.png\" style=\"display:inline-block; margin:5px;\" /><img src=\"https://www.improvemagic.com/wp-content/uploads/2020/11/kq.png\" style=\"display:inline-block; margin:5px;\" /><img src=\"https://www.improvemagic.com/wp-content/uploads/2020/11/kj.png\" style=\"display:inline-block; margin:5px;\" />"
            ],
            "text/plain": [
              "<IPython.core.display.HTML object>"
            ]
          },
          "metadata": {},
          "output_type": "display_data"
        },
        {
          "name": "stdout",
          "output_type": "stream",
          "text": [
            "Winner!\n"
          ]
        },
        {
          "data": {
            "text/html": [
              "<img src=\"https://www.improvemagic.com/wp-content/uploads/2020/11/la.png\" style=\"display:inline-block; margin:5px;\" /><img src=\"https://www.improvemagic.com/wp-content/uploads/2020/11/l10.png\" style=\"display:inline-block; margin:5px;\" /><img src=\"https://www.improvemagic.com/wp-content/uploads/2020/11/l9.png\" style=\"display:inline-block; margin:5px;\" /><img src=\"https://www.improvemagic.com/wp-content/uploads/2020/11/lq.png\" style=\"display:inline-block; margin:5px;\" /><img src=\"https://www.improvemagic.com/wp-content/uploads/2020/11/lj.png\" style=\"display:inline-block; margin:5px;\" />"
            ],
            "text/plain": [
              "<IPython.core.display.HTML object>"
            ]
          },
          "metadata": {},
          "output_type": "display_data"
        }
      ],
      "source": [
        "for i in range(1000): #looping 1000 times\n",
        "    # Initialize and shuffle the deck\n",
        "    deck = initialize_deck()\n",
        "    top_index = 0  # Start at the beginning of the deck\n",
        "\n",
        "    hand, top_index = draw_cards(deck, top_index, 5) #draw five cards each time\n",
        "\n",
        "    if evaluate_hand(hand) == \"Flush\":\n",
        "        print(\"Winner!\")\n",
        "        show_hand(hand)"
      ]
    },
    {
      "cell_type": "code",
      "execution_count": null,
      "metadata": {
        "colab": {
          "base_uri": "https://localhost:8080/"
        },
        "id": "Hiwjc2wDcA-W",
        "outputId": "45fa9c4e-6c7f-44d6-ab0c-764fbe6b695d"
      },
      "outputs": [
        {
          "output_type": "stream",
          "name": "stdout",
          "text": [
            "33.5 µs ± 1.21 µs per loop (mean ± std. dev. of 7 runs, 10000 loops each)\n"
          ]
        }
      ],
      "source": [
        "#how much time does it take to get winning cards\n",
        "%%timeit\n",
        "# Initialize and shuffle the deck\n",
        "deck = initialize_deck()\n",
        "top_index = 0  # Start at the beginning of the deck\n",
        "\n",
        "hand, top_index = draw_cards(deck, top_index, 5) #draw five cards every time\n",
        "\n",
        "if evaluate_hand(hand) == \"Royal Flush\":\n",
        "    print(\"Winner!\")\n",
        "    show_hand(hand)"
      ]
    },
    {
      "cell_type": "code",
      "execution_count": null,
      "metadata": {
        "colab": {
          "base_uri": "https://localhost:8080/",
          "height": 686
        },
        "id": "MfZ17tITbb2N",
        "outputId": "f769cb90-eeae-43dc-e00c-1ca6f6399e7e"
      },
      "outputs": [
        {
          "name": "stdout",
          "output_type": "stream",
          "text": [
            "Winner!\n"
          ]
        },
        {
          "data": {
            "text/html": [
              "<img src=\"https://www.improvemagic.com/wp-content/uploads/2020/11/sq.png\" style=\"display:inline-block; margin:5px;\" /><img src=\"https://www.improvemagic.com/wp-content/uploads/2020/11/sa.png\" style=\"display:inline-block; margin:5px;\" /><img src=\"https://www.improvemagic.com/wp-content/uploads/2020/11/s10.png\" style=\"display:inline-block; margin:5px;\" /><img src=\"https://www.improvemagic.com/wp-content/uploads/2020/11/sk.png\" style=\"display:inline-block; margin:5px;\" /><img src=\"https://www.improvemagic.com/wp-content/uploads/2020/11/sj.png\" style=\"display:inline-block; margin:5px;\" />"
            ],
            "text/plain": [
              "<IPython.core.display.HTML object>"
            ]
          },
          "metadata": {},
          "output_type": "display_data"
        }
      ],
      "source": [
        "for i in range(1000000): #looping 1000000 times\n",
        "    # Initialize and shuffle the deck\n",
        "    deck = initialize_deck()\n",
        "    top_index = 0  # Start at the beginning of the deck\n",
        "\n",
        "    hand, top_index = draw_cards(deck, top_index, 5)\n",
        "\n",
        "    if evaluate_hand(hand) == \"Royal Flush\":\n",
        "        print(\"Winner!\")\n",
        "        show_hand(hand)\n"
      ]
    },
    {
      "cell_type": "markdown",
      "metadata": {
        "id": "74nj18K0ccla"
      },
      "source": [
        "The above is first try!!!!! yay"
      ]
    },
    {
      "cell_type": "code",
      "execution_count": null,
      "metadata": {
        "id": "br1RRi_poHej"
      },
      "outputs": [],
      "source": []
    },
    {
      "cell_type": "code",
      "execution_count": 94,
      "metadata": {
        "colab": {
          "base_uri": "https://localhost:8080/",
          "height": 1000
        },
        "id": "rU4xfCSPoHjR",
        "outputId": "3fe27252-7b41-4a05-a058-9d91cb0da2c0"
      },
      "outputs": [
        {
          "output_type": "stream",
          "name": "stdout",
          "text": [
            "Winner!\n"
          ]
        },
        {
          "output_type": "display_data",
          "data": {
            "text/plain": [
              "<IPython.core.display.HTML object>"
            ],
            "text/html": [
              "<img src=\"https://www.improvemagic.com/wp-content/uploads/2020/11/lj.png\" style=\"display:inline-block; margin:5px;\" /><img src=\"https://www.improvemagic.com/wp-content/uploads/2020/11/lq.png\" style=\"display:inline-block; margin:5px;\" /><img src=\"https://www.improvemagic.com/wp-content/uploads/2020/11/lk.png\" style=\"display:inline-block; margin:5px;\" /><img src=\"https://www.improvemagic.com/wp-content/uploads/2020/11/la.png\" style=\"display:inline-block; margin:5px;\" /><img src=\"https://www.improvemagic.com/wp-content/uploads/2020/11/l10.png\" style=\"display:inline-block; margin:5px;\" />"
            ]
          },
          "metadata": {}
        },
        {
          "output_type": "stream",
          "name": "stdout",
          "text": [
            "Winner!\n"
          ]
        },
        {
          "output_type": "display_data",
          "data": {
            "text/plain": [
              "<IPython.core.display.HTML object>"
            ],
            "text/html": [
              "<img src=\"https://www.improvemagic.com/wp-content/uploads/2020/11/sq.png\" style=\"display:inline-block; margin:5px;\" /><img src=\"https://www.improvemagic.com/wp-content/uploads/2020/11/sk.png\" style=\"display:inline-block; margin:5px;\" /><img src=\"https://www.improvemagic.com/wp-content/uploads/2020/11/sj.png\" style=\"display:inline-block; margin:5px;\" /><img src=\"https://www.improvemagic.com/wp-content/uploads/2020/11/sa.png\" style=\"display:inline-block; margin:5px;\" /><img src=\"https://www.improvemagic.com/wp-content/uploads/2020/11/s10.png\" style=\"display:inline-block; margin:5px;\" />"
            ]
          },
          "metadata": {}
        },
        {
          "output_type": "stream",
          "name": "stdout",
          "text": [
            "Winner!\n"
          ]
        },
        {
          "output_type": "display_data",
          "data": {
            "text/plain": [
              "<IPython.core.display.HTML object>"
            ],
            "text/html": [
              "<img src=\"https://www.improvemagic.com/wp-content/uploads/2020/11/pk.png\" style=\"display:inline-block; margin:5px;\" /><img src=\"https://www.improvemagic.com/wp-content/uploads/2020/11/pa.png\" style=\"display:inline-block; margin:5px;\" /><img src=\"https://www.improvemagic.com/wp-content/uploads/2020/11/pj.png\" style=\"display:inline-block; margin:5px;\" /><img src=\"https://www.improvemagic.com/wp-content/uploads/2020/11/p10.png\" style=\"display:inline-block; margin:5px;\" /><img src=\"https://www.improvemagic.com/wp-content/uploads/2020/11/pq.png\" style=\"display:inline-block; margin:5px;\" />"
            ]
          },
          "metadata": {}
        },
        {
          "output_type": "stream",
          "name": "stdout",
          "text": [
            "Winner!\n"
          ]
        },
        {
          "output_type": "display_data",
          "data": {
            "text/plain": [
              "<IPython.core.display.HTML object>"
            ],
            "text/html": [
              "<img src=\"https://www.improvemagic.com/wp-content/uploads/2020/11/la.png\" style=\"display:inline-block; margin:5px;\" /><img src=\"https://www.improvemagic.com/wp-content/uploads/2020/11/lj.png\" style=\"display:inline-block; margin:5px;\" /><img src=\"https://www.improvemagic.com/wp-content/uploads/2020/11/l10.png\" style=\"display:inline-block; margin:5px;\" /><img src=\"https://www.improvemagic.com/wp-content/uploads/2020/11/lk.png\" style=\"display:inline-block; margin:5px;\" /><img src=\"https://www.improvemagic.com/wp-content/uploads/2020/11/lq.png\" style=\"display:inline-block; margin:5px;\" />"
            ]
          },
          "metadata": {}
        },
        {
          "output_type": "stream",
          "name": "stdout",
          "text": [
            "Winner!\n"
          ]
        },
        {
          "output_type": "display_data",
          "data": {
            "text/plain": [
              "<IPython.core.display.HTML object>"
            ],
            "text/html": [
              "<img src=\"https://www.improvemagic.com/wp-content/uploads/2020/11/la.png\" style=\"display:inline-block; margin:5px;\" /><img src=\"https://www.improvemagic.com/wp-content/uploads/2020/11/lj.png\" style=\"display:inline-block; margin:5px;\" /><img src=\"https://www.improvemagic.com/wp-content/uploads/2020/11/lq.png\" style=\"display:inline-block; margin:5px;\" /><img src=\"https://www.improvemagic.com/wp-content/uploads/2020/11/l10.png\" style=\"display:inline-block; margin:5px;\" /><img src=\"https://www.improvemagic.com/wp-content/uploads/2020/11/lk.png\" style=\"display:inline-block; margin:5px;\" />"
            ]
          },
          "metadata": {}
        },
        {
          "output_type": "stream",
          "name": "stdout",
          "text": [
            "Winner!\n"
          ]
        },
        {
          "output_type": "display_data",
          "data": {
            "text/plain": [
              "<IPython.core.display.HTML object>"
            ],
            "text/html": [
              "<img src=\"https://www.improvemagic.com/wp-content/uploads/2020/11/lq.png\" style=\"display:inline-block; margin:5px;\" /><img src=\"https://www.improvemagic.com/wp-content/uploads/2020/11/lj.png\" style=\"display:inline-block; margin:5px;\" /><img src=\"https://www.improvemagic.com/wp-content/uploads/2020/11/l10.png\" style=\"display:inline-block; margin:5px;\" /><img src=\"https://www.improvemagic.com/wp-content/uploads/2020/11/la.png\" style=\"display:inline-block; margin:5px;\" /><img src=\"https://www.improvemagic.com/wp-content/uploads/2020/11/lk.png\" style=\"display:inline-block; margin:5px;\" />"
            ]
          },
          "metadata": {}
        },
        {
          "output_type": "stream",
          "name": "stdout",
          "text": [
            "Winner!\n"
          ]
        },
        {
          "output_type": "display_data",
          "data": {
            "text/plain": [
              "<IPython.core.display.HTML object>"
            ],
            "text/html": [
              "<img src=\"https://www.improvemagic.com/wp-content/uploads/2020/11/k10.png\" style=\"display:inline-block; margin:5px;\" /><img src=\"https://www.improvemagic.com/wp-content/uploads/2020/11/kk.png\" style=\"display:inline-block; margin:5px;\" /><img src=\"https://www.improvemagic.com/wp-content/uploads/2020/11/kq.png\" style=\"display:inline-block; margin:5px;\" /><img src=\"https://www.improvemagic.com/wp-content/uploads/2020/11/kj.png\" style=\"display:inline-block; margin:5px;\" /><img src=\"https://www.improvemagic.com/wp-content/uploads/2020/11/ka.png\" style=\"display:inline-block; margin:5px;\" />"
            ]
          },
          "metadata": {}
        },
        {
          "output_type": "stream",
          "name": "stdout",
          "text": [
            "Winner!\n"
          ]
        },
        {
          "output_type": "display_data",
          "data": {
            "text/plain": [
              "<IPython.core.display.HTML object>"
            ],
            "text/html": [
              "<img src=\"https://www.improvemagic.com/wp-content/uploads/2020/11/pj.png\" style=\"display:inline-block; margin:5px;\" /><img src=\"https://www.improvemagic.com/wp-content/uploads/2020/11/pq.png\" style=\"display:inline-block; margin:5px;\" /><img src=\"https://www.improvemagic.com/wp-content/uploads/2020/11/p10.png\" style=\"display:inline-block; margin:5px;\" /><img src=\"https://www.improvemagic.com/wp-content/uploads/2020/11/pa.png\" style=\"display:inline-block; margin:5px;\" /><img src=\"https://www.improvemagic.com/wp-content/uploads/2020/11/pk.png\" style=\"display:inline-block; margin:5px;\" />"
            ]
          },
          "metadata": {}
        },
        {
          "output_type": "stream",
          "name": "stdout",
          "text": [
            "Winner!\n"
          ]
        },
        {
          "output_type": "display_data",
          "data": {
            "text/plain": [
              "<IPython.core.display.HTML object>"
            ],
            "text/html": [
              "<img src=\"https://www.improvemagic.com/wp-content/uploads/2020/11/kk.png\" style=\"display:inline-block; margin:5px;\" /><img src=\"https://www.improvemagic.com/wp-content/uploads/2020/11/kj.png\" style=\"display:inline-block; margin:5px;\" /><img src=\"https://www.improvemagic.com/wp-content/uploads/2020/11/kq.png\" style=\"display:inline-block; margin:5px;\" /><img src=\"https://www.improvemagic.com/wp-content/uploads/2020/11/k10.png\" style=\"display:inline-block; margin:5px;\" /><img src=\"https://www.improvemagic.com/wp-content/uploads/2020/11/ka.png\" style=\"display:inline-block; margin:5px;\" />"
            ]
          },
          "metadata": {}
        },
        {
          "output_type": "stream",
          "name": "stdout",
          "text": [
            "Winner!\n"
          ]
        },
        {
          "output_type": "display_data",
          "data": {
            "text/plain": [
              "<IPython.core.display.HTML object>"
            ],
            "text/html": [
              "<img src=\"https://www.improvemagic.com/wp-content/uploads/2020/11/sk.png\" style=\"display:inline-block; margin:5px;\" /><img src=\"https://www.improvemagic.com/wp-content/uploads/2020/11/sj.png\" style=\"display:inline-block; margin:5px;\" /><img src=\"https://www.improvemagic.com/wp-content/uploads/2020/11/sa.png\" style=\"display:inline-block; margin:5px;\" /><img src=\"https://www.improvemagic.com/wp-content/uploads/2020/11/sq.png\" style=\"display:inline-block; margin:5px;\" /><img src=\"https://www.improvemagic.com/wp-content/uploads/2020/11/s10.png\" style=\"display:inline-block; margin:5px;\" />"
            ]
          },
          "metadata": {}
        },
        {
          "output_type": "stream",
          "name": "stdout",
          "text": [
            "Winner!\n"
          ]
        },
        {
          "output_type": "display_data",
          "data": {
            "text/plain": [
              "<IPython.core.display.HTML object>"
            ],
            "text/html": [
              "<img src=\"https://www.improvemagic.com/wp-content/uploads/2020/11/kk.png\" style=\"display:inline-block; margin:5px;\" /><img src=\"https://www.improvemagic.com/wp-content/uploads/2020/11/k10.png\" style=\"display:inline-block; margin:5px;\" /><img src=\"https://www.improvemagic.com/wp-content/uploads/2020/11/ka.png\" style=\"display:inline-block; margin:5px;\" /><img src=\"https://www.improvemagic.com/wp-content/uploads/2020/11/kq.png\" style=\"display:inline-block; margin:5px;\" /><img src=\"https://www.improvemagic.com/wp-content/uploads/2020/11/kj.png\" style=\"display:inline-block; margin:5px;\" />"
            ]
          },
          "metadata": {}
        },
        {
          "output_type": "stream",
          "name": "stdout",
          "text": [
            "Winner!\n"
          ]
        },
        {
          "output_type": "display_data",
          "data": {
            "text/plain": [
              "<IPython.core.display.HTML object>"
            ],
            "text/html": [
              "<img src=\"https://www.improvemagic.com/wp-content/uploads/2020/11/lj.png\" style=\"display:inline-block; margin:5px;\" /><img src=\"https://www.improvemagic.com/wp-content/uploads/2020/11/lq.png\" style=\"display:inline-block; margin:5px;\" /><img src=\"https://www.improvemagic.com/wp-content/uploads/2020/11/l10.png\" style=\"display:inline-block; margin:5px;\" /><img src=\"https://www.improvemagic.com/wp-content/uploads/2020/11/lk.png\" style=\"display:inline-block; margin:5px;\" /><img src=\"https://www.improvemagic.com/wp-content/uploads/2020/11/la.png\" style=\"display:inline-block; margin:5px;\" />"
            ]
          },
          "metadata": {}
        },
        {
          "output_type": "stream",
          "name": "stdout",
          "text": [
            "Winner!\n"
          ]
        },
        {
          "output_type": "display_data",
          "data": {
            "text/plain": [
              "<IPython.core.display.HTML object>"
            ],
            "text/html": [
              "<img src=\"https://www.improvemagic.com/wp-content/uploads/2020/11/pk.png\" style=\"display:inline-block; margin:5px;\" /><img src=\"https://www.improvemagic.com/wp-content/uploads/2020/11/pj.png\" style=\"display:inline-block; margin:5px;\" /><img src=\"https://www.improvemagic.com/wp-content/uploads/2020/11/pa.png\" style=\"display:inline-block; margin:5px;\" /><img src=\"https://www.improvemagic.com/wp-content/uploads/2020/11/pq.png\" style=\"display:inline-block; margin:5px;\" /><img src=\"https://www.improvemagic.com/wp-content/uploads/2020/11/p10.png\" style=\"display:inline-block; margin:5px;\" />"
            ]
          },
          "metadata": {}
        },
        {
          "output_type": "stream",
          "name": "stdout",
          "text": [
            "Winner!\n"
          ]
        },
        {
          "output_type": "display_data",
          "data": {
            "text/plain": [
              "<IPython.core.display.HTML object>"
            ],
            "text/html": [
              "<img src=\"https://www.improvemagic.com/wp-content/uploads/2020/11/sk.png\" style=\"display:inline-block; margin:5px;\" /><img src=\"https://www.improvemagic.com/wp-content/uploads/2020/11/sj.png\" style=\"display:inline-block; margin:5px;\" /><img src=\"https://www.improvemagic.com/wp-content/uploads/2020/11/sq.png\" style=\"display:inline-block; margin:5px;\" /><img src=\"https://www.improvemagic.com/wp-content/uploads/2020/11/sa.png\" style=\"display:inline-block; margin:5px;\" /><img src=\"https://www.improvemagic.com/wp-content/uploads/2020/11/s10.png\" style=\"display:inline-block; margin:5px;\" />"
            ]
          },
          "metadata": {}
        },
        {
          "output_type": "stream",
          "name": "stdout",
          "text": [
            "Winner!\n"
          ]
        },
        {
          "output_type": "display_data",
          "data": {
            "text/plain": [
              "<IPython.core.display.HTML object>"
            ],
            "text/html": [
              "<img src=\"https://www.improvemagic.com/wp-content/uploads/2020/11/pk.png\" style=\"display:inline-block; margin:5px;\" /><img src=\"https://www.improvemagic.com/wp-content/uploads/2020/11/pq.png\" style=\"display:inline-block; margin:5px;\" /><img src=\"https://www.improvemagic.com/wp-content/uploads/2020/11/pa.png\" style=\"display:inline-block; margin:5px;\" /><img src=\"https://www.improvemagic.com/wp-content/uploads/2020/11/p10.png\" style=\"display:inline-block; margin:5px;\" /><img src=\"https://www.improvemagic.com/wp-content/uploads/2020/11/pj.png\" style=\"display:inline-block; margin:5px;\" />"
            ]
          },
          "metadata": {}
        },
        {
          "output_type": "stream",
          "name": "stdout",
          "text": [
            "Winner!\n"
          ]
        },
        {
          "output_type": "display_data",
          "data": {
            "text/plain": [
              "<IPython.core.display.HTML object>"
            ],
            "text/html": [
              "<img src=\"https://www.improvemagic.com/wp-content/uploads/2020/11/pj.png\" style=\"display:inline-block; margin:5px;\" /><img src=\"https://www.improvemagic.com/wp-content/uploads/2020/11/pa.png\" style=\"display:inline-block; margin:5px;\" /><img src=\"https://www.improvemagic.com/wp-content/uploads/2020/11/pk.png\" style=\"display:inline-block; margin:5px;\" /><img src=\"https://www.improvemagic.com/wp-content/uploads/2020/11/p10.png\" style=\"display:inline-block; margin:5px;\" /><img src=\"https://www.improvemagic.com/wp-content/uploads/2020/11/pq.png\" style=\"display:inline-block; margin:5px;\" />"
            ]
          },
          "metadata": {}
        },
        {
          "output_type": "stream",
          "name": "stdout",
          "text": [
            "Winner!\n"
          ]
        },
        {
          "output_type": "display_data",
          "data": {
            "text/plain": [
              "<IPython.core.display.HTML object>"
            ],
            "text/html": [
              "<img src=\"https://www.improvemagic.com/wp-content/uploads/2020/11/pk.png\" style=\"display:inline-block; margin:5px;\" /><img src=\"https://www.improvemagic.com/wp-content/uploads/2020/11/pq.png\" style=\"display:inline-block; margin:5px;\" /><img src=\"https://www.improvemagic.com/wp-content/uploads/2020/11/pj.png\" style=\"display:inline-block; margin:5px;\" /><img src=\"https://www.improvemagic.com/wp-content/uploads/2020/11/pa.png\" style=\"display:inline-block; margin:5px;\" /><img src=\"https://www.improvemagic.com/wp-content/uploads/2020/11/p10.png\" style=\"display:inline-block; margin:5px;\" />"
            ]
          },
          "metadata": {}
        }
      ],
      "source": [
        "#reset the wins to zero, initialize a counter for wins\n",
        "wins = 0\n",
        "N = 10000000   # N trials\n",
        "\n",
        "for i in range(N): #looping it N times\n",
        "    # Initialize and shuffle the deck\n",
        "    deck = initialize_deck()\n",
        "    top_index = 0  # Start at the beginning of the deck\n",
        "\n",
        "    hand, top_index = draw_cards(deck, top_index, 5)\n",
        "\n",
        "    if evaluate_hand(hand) == \"Royal Flush\":\n",
        "        wins += 1\n",
        "        print(\"Winner!\")\n",
        "        show_hand(hand) #display the cards in the hand"
      ]
    },
    {
      "cell_type": "code",
      "execution_count": 95,
      "metadata": {
        "colab": {
          "base_uri": "https://localhost:8080/"
        },
        "id": "Q7WDJidEw7yT",
        "outputId": "e5d02a4b-8c35-452c-eb3c-43d79f9067dd"
      },
      "outputs": [
        {
          "output_type": "execute_result",
          "data": {
            "text/plain": [
              "1.7e-06"
            ]
          },
          "metadata": {},
          "execution_count": 95
        }
      ],
      "source": [
        "#the probability of drawing a Royal Flush\n",
        "wins/N"
      ]
    },
    {
      "cell_type": "code",
      "execution_count": null,
      "metadata": {
        "id": "Erx7P3YYb9jx"
      },
      "outputs": [],
      "source": []
    }
  ],
  "metadata": {
    "colab": {
      "provenance": []
    },
    "kernelspec": {
      "display_name": "Python 3",
      "name": "python3"
    },
    "language_info": {
      "name": "python"
    }
  },
  "nbformat": 4,
  "nbformat_minor": 0
}